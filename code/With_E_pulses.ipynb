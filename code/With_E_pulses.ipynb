{
 "cells": [
  {
   "metadata": {
    "ExecuteTime": {
     "end_time": "2024-12-17T11:54:42.882098Z",
     "start_time": "2024-12-17T11:54:41.879522Z"
    }
   },
   "cell_type": "code",
   "source": [
    "import matplotlib.pyplot as plt\n",
    "import numpy as np\n",
    "\n",
    "from qutip import * \n",
    "import os\n",
    "\n",
    "from scanext import CONSTRAINT_RANGE\n",
    "\n",
    "# Matplotlib Einstellungen gemäß den LaTeX-Caption-Formatierungen\n",
    "plt.rcParams.update({\n",
    "#    'text.usetex': True,              # Enable LaTeX for text rendering\n",
    "#    'font.family': 'serif',           # Use a serif font family\n",
    "#    'font.serif': 'Palatino',         # Set Palatino as the serif font\n",
    "#    'text.latex.preamble': r'\\usepackage{amsmath}',\n",
    "#    'font.size': 20,                   # Font size for general text\n",
    "#    'axes.titlesize': 20,              # Font size for axis titles\n",
    "#    'axes.labelsize': 20,              # Font size for axis labels\n",
    "#    'xtick.labelsize': 20,             # Font size for x-axis tick labels\n",
    "#    'ytick.labelsize': 20,             # Font size for y-axis tick labels\n",
    "#    'legend.fontsize': 20,             # Font size for legends\n",
    "#    'figure.figsize': [8, 6],          # Size of the plot (width x height)\n",
    "#    'figure.autolayout': True,         # Automatic layout adjustment\n",
    "#    'savefig.format': 'svg',           # Default format for saving figures\n",
    "#    'figure.facecolor': 'none',        # Make the figure face color transparent\n",
    "#    'axes.facecolor': 'none',          # Make the axes face color transparent\n",
    "#    'savefig.transparent': True        # Save figures with transparent background\n",
    "})\n",
    "\n",
    "output_dir = r\"C:\\Users\\leopo\\OneDrive - UT Cloud\\Uni\\Semester_9\\Master_thesis\\Figures_From_Python\"\n",
    "os.makedirs(output_dir, exist_ok=True)\n",
    "\n",
    "# allows for interactive plots\n",
    "#%matplotlib notebook"
   ],
   "id": "initial_id",
   "execution_count": 1,
   "outputs": []
  },
  {
   "metadata": {},
   "cell_type": "markdown",
   "source": [
    "$$\n",
    "\\displaystyle H = \\hbar \\sum_{i=1}^{N_{\\text{atoms}}} \\omega_a \\sigma_+^{(i)} \\sigma_-^{(i)}\n",
    "- \\hbar \\sum_{i,j=1}^{N_\\text{{atoms}}} J_{i j} \\sigma_+^{(i)} \\sigma_-^{(j)}.\n",
    "$$\n",
    "$$\n",
    "\\displaystyle J_{i j} = \\frac{\\alpha}{|r_i-r_j|}.\n",
    "$$"
   ],
   "id": "fbde5d7951a8a53b"
  },
  {
   "metadata": {
    "ExecuteTime": {
     "end_time": "2024-12-17T11:54:42.888236Z",
     "start_time": "2024-12-17T11:54:42.885241Z"
    }
   },
   "cell_type": "code",
   "source": [
    "# Set the system parameters\n",
    "n_rings = 1\n",
    "n_chains = 1 # number of chains\n",
    "N_atoms = n_chains * n_rings  # number of atoms\n",
    "\n",
    "fixed_lam = 1.                # energysplitting of the atom, when ground state is set to 0\n",
    "omega_a = 2 * np.pi / fixed_lam # actually k_a\n",
    "distance = 1 * fixed_lam # defining topology                                    0.1 <--\n",
    "\n",
    "gamma_0 = .1   # decay rate of the atoms\n",
    "gamma_phi = .1 # dephasing rate of the atoms\n",
    "\n",
    "alpha = 1. # coupling strength of the dipoles       Fine structure const?\n",
    "mu    = 1. # dipole strength\n",
    "# evolution\n",
    "t_max = 30"
   ],
   "id": "76bb23c3f08969f5",
   "execution_count": 2,
   "outputs": []
  },
  {
   "metadata": {
    "ExecuteTime": {
     "end_time": "2024-12-17T11:54:42.992300Z",
     "start_time": "2024-12-17T11:54:42.987773Z"
    }
   },
   "cell_type": "code",
   "source": [
    "########################################               define the geometry                 #############################################\n",
    "def chain_positions(distance, N_atoms):\n",
    "    Pos = np.zeros((N_atoms, 3))\n",
    "    for i in range(N_atoms):\n",
    "        Pos[i, 2] = i * distance\n",
    "    return Pos\n",
    "\n",
    "def z_rotation(angle):\n",
    "    return np.array([\n",
    "        [np.cos(angle), -np.sin(angle), 0],\n",
    "        [np.sin(angle),  np.cos(angle), 0],\n",
    "        [0,              0,            1]])\n",
    "\n",
    "def ring_positions(distance, n_chains):\n",
    "    Pos = np.zeros((n_chains, 3))\n",
    "    dphi = 2 * np.pi / n_chains\n",
    "    if n_chains == 1:\n",
    "        radius = 0\n",
    "    else:\n",
    "        radius = distance / 2 / np.sin(np.pi / n_chains)\n",
    "    helper = np.array([radius, 0, 0])\n",
    "    for i in range(n_chains):\n",
    "        rotation_matrix = z_rotation(dphi * i)\n",
    "        Pos[i] = np.matmul(rotation_matrix, helper)\n",
    "    return Pos\n",
    "\n",
    "def cyl_positions(distance, N_atoms, n_chains):\n",
    "    Pos = np.zeros((N_atoms, 3))\n",
    "    Pos_chain = chain_positions(distance, N_atoms // n_chains)\n",
    "    Pos_ring = ring_positions(distance, n_chains)\n",
    "    for i in range(n_chains):\n",
    "        Pos[i * (N_atoms // n_chains): (i + 1) * (N_atoms // n_chains)] = Pos_chain + Pos_ring[i]\n",
    "    return Pos"
   ],
   "id": "6595ef766741d55a",
   "execution_count": 3,
   "outputs": []
  },
  {
   "metadata": {
    "ExecuteTime": {
     "end_time": "2024-12-17T11:54:43.159137Z",
     "start_time": "2024-12-17T11:54:43.030180Z"
    }
   },
   "cell_type": "code",
   "source": [
    "Pos = cyl_positions(distance, N_atoms, n_chains)\n",
    "\n",
    "# Plotting \n",
    "fig = plt.figure(figsize=(8, 6)) \n",
    "ax = fig.add_subplot(111, projection='3d') \n",
    "# Plot the positions \n",
    "ax.scatter(Pos[:, 0], Pos[:, 1], Pos[:, 2], c='b', marker='o') \n",
    "ax.set_xlabel('X')\n",
    "ax.set_ylabel('Y')\n",
    "ax.set_zlabel('Z')\n",
    "ax.set_title('Positions and Dipoles')\n",
    "ax.axis('equal')\n",
    "plt.show()"
   ],
   "id": "56a449ed10aea37a",
   "execution_count": 4,
   "outputs": []
  },
  {
   "metadata": {
    "ExecuteTime": {
     "end_time": "2024-12-17T11:54:43.171275Z",
     "start_time": "2024-12-17T11:54:43.167339Z"
    }
   },
   "cell_type": "code",
   "source": [
    "# Define the ground & the excited states (atomic dofs)\n",
    "ground_state = basis(N_atoms + 1, 0)\n",
    "excited_states = [basis(N_atoms + 1, i) for i in range(1, N_atoms + 1)]\n",
    "sm_list = []\n",
    "dip_op = 0\n",
    "for i in range(N_atoms):\n",
    "    op = ground_state * excited_states[i].dag()\n",
    "    sm_list.append(op)\n",
    "    dip_op += mu * op + mu * op.dag()"
   ],
   "id": "30981b09e6812d74",
   "execution_count": 5,
   "outputs": []
  },
  {
   "metadata": {
    "ExecuteTime": {
     "end_time": "2024-12-17T11:54:43.214525Z",
     "start_time": "2024-12-17T11:54:43.208794Z"
    }
   },
   "cell_type": "code",
   "source": [
    "def Hamilton0(distance, n_rings, n_chains):\n",
    "    N_atoms = n_chains * n_rings\n",
    "    Pos = cyl_positions(distance, N_atoms, n_chains)\n",
    "    H = 0\n",
    "    for a in range(N_atoms):\n",
    "        for b in range(N_atoms):\n",
    "            base = (sm_list[a].dag() * sm_list[b])\n",
    "            if a != b:\n",
    "                ra, rb = Pos[a, :], Pos[b, :]\n",
    "                H += alpha / (np.linalg.norm(rb-ra))* base\n",
    "            else:\n",
    "                H +=  omega_a * base # Diagonals except for |0><0|\n",
    "\n",
    "    return H\n",
    "    \n",
    "H0 = Hamilton0(distance, n_rings, n_chains)\n",
    "\n",
    "H0"
   ],
   "id": "380af6c3a14f9291",
   "execution_count": 6,
   "outputs": []
  },
  {
   "metadata": {
    "ExecuteTime": {
     "end_time": "2024-12-17T11:54:43.596007Z",
     "start_time": "2024-12-17T11:54:43.592563Z"
    }
   },
   "cell_type": "code",
   "source": "",
   "id": "ac28be38d6d05b76",
   "execution_count": null,
   "outputs": []
  },
  {
   "metadata": {},
   "cell_type": "markdown",
   "source": [
    "## Single case\n",
    "\n",
    "$$\n",
    "C_{\\text{decay}}^{(i)} = \\sqrt{\\gamma_0} \\sigma_-^{(i)} \\quad\n",
    "C_{\\text{dephase}}^{(i)} = \\sqrt{\\gamma_\\phi} \\sigma_z^{(i)}\n",
    "$$\n",
    "\n",
    "## Collective case\n",
    "$$\n",
    "C_{\\text{decay}} = \\sum_{n=1}^{N_{\\text{atoms}}} C_{\\text{decay}}^{(i)} \\quad\n",
    "C_{\\text{dephase}} = \\sum_{n=1}^{N_\\text{atoms}} C_{\\text{dephase}}^{(i)}\n",
    "$$"
   ],
   "id": "6816d8512eca0f32"
  },
  {
   "metadata": {
    "ExecuteTime": {
     "end_time": "2024-12-17T11:54:45.164672Z",
     "start_time": "2024-12-17T11:54:45.153429Z"
    }
   },
   "cell_type": "code",
   "source": [
    "# Jump / Expect Operators\n",
    "\n",
    "'''# TRASH DOESNT DO ANYTHING?c_op1 = [np.sqrt(gamma_0) * sum(sm_list)]                                       # COLLECTIVE DECAY??? doesnt work?\n",
    "# TRASH DOESNT DO ANYTHING?c_op3 = [np.sqrt(gamma_phi) * sum(commutator(sm.dag(), sm) for sm in sm_list)]  # COLLECTIVE DEPHASNG'''\n",
    "\n",
    "# Define the decay collapse and dephasing operator for each spin\n",
    "c_op2 = [np.sqrt(gamma_0) * sm for sm in sm_list]                                                          # EVERY ATOM DECAYS on its own\n",
    "c_op4 = [np.sqrt(gamma_phi) * commutator(sm.dag(), sm) for sm in sm_list]                                  # EVEY ATOM DEPHASES\n",
    "\n",
    "c_op_list = c_op2 + c_op4\n",
    "\n",
    "e_op_list = [basis(N_atoms+1, i) * basis(N_atoms+1, i).dag() for i in range(0,N_atoms+1)] # "
   ],
   "id": "5462a0943d85d3f0",
   "execution_count": 7,
   "outputs": []
  },
  {
   "metadata": {
    "ExecuteTime": {
     "end_time": "2024-12-17T11:57:07.660086Z",
     "start_time": "2024-12-17T11:57:06.191719Z"
    }
   },
   "cell_type": "code",
   "source": [
    "# evolution without coupling\n",
    "times = np.linspace(0, t_max, t_max * 1000) # list of times\n",
    "\n",
    "# initial state\n",
    "psiini = basis(N_atoms+1, 1) # first atom excited\n",
    "'''k = np.pi / 4  # a single wavevector value\n",
    "\n",
    "# Define the superposition state excited by a single mode with wavevector k\n",
    "superposition_state = sum(\n",
    "    np.exp(1j * k * np.linalg.norm(Pos[n])) * basis(N_atoms + 1, n) for n in range(1, 6)\n",
    ")\n",
    "\n",
    "# Normalize the state\n",
    "psiini = superposition_state.unit()'''\n",
    "\n",
    "\n",
    "result = mesolve(H0, psiini, times, c_ops = c_op_list, e_ops = e_op_list) #, options={\"store_states\": True}\n",
    "print(result)\n",
    "# Plot the expectation values\n",
    "plt.figure()\n",
    "for i in range(1, N_atoms+1):\n",
    "    label = str(i) if i < 5 else None\n",
    "    plt.plot(times, result.expect[i], label=label)\n",
    "plt.xlabel(\"Time\")\n",
    "plt.ylabel(\"Population\")\n",
    "Psur = sum(result.expect[i] for i in range(1,N_atoms+1)) \n",
    "plt.plot(times, result.expect[0], label=\"g\")\n",
    "plt.plot(times, Psur, label= r\"$P_{\\text{sur}}$\")\n",
    "plt.legend(title=\"$|i>$\")\n",
    "\n",
    "plt.title(\"Evolution of Populations\")\n",
    "plt.show()"
   ],
   "id": "347308b760af281d",
   "execution_count": 9,
   "outputs": []
  },
  {
   "metadata": {},
   "cell_type": "code",
   "source": [
    "# visualization\n",
    "\n",
    "# y1: 2D array with shape (len(times), N_atoms)\n",
    "y1 = np.array(result.expect[1:]).T # neglect ground state\n",
    "\n",
    "fig, (ax1, ax2) = plt.subplots(2, 1, sharex=True, gridspec_kw={'height_ratios': [2.5, 1]}, constrained_layout=True, figsize=(8,6))\n",
    "\n",
    "im = ax1.imshow(y1.T, aspect='auto', origin='lower', cmap='coolwarm', extent=[0, t_max, 0, N_atoms])\n",
    "yticks = [0] + [i * n_rings for i in range(1, n_chains + 1)] \n",
    "ax1.set_yticks(yticks)\n",
    "\n",
    "ax2.plot(times, Psur, color='green', linewidth=2.5, label='collective')\n",
    "ax2.plot(times, np.exp(-times), 'r--', linewidth=2.5, label='1 atom')\n",
    "\n",
    "max_value = np.max(y1)\n",
    "cbar = fig.colorbar(im, ax=ax1, label=r'$ \\vert c_{\\alpha}(t)\\vert ^2$')\n",
    "cbar.set_ticks([0, max_value])\n",
    "cbar.set_ticklabels([r'0', f'{max_value:.1f}'])\n",
    "\n",
    "ax2.set_ylim(0, 1.01)\n",
    "ax2.set_xticks([0, round(t_max/4), round(t_max/2), round(3* t_max/4), t_max])\n",
    "ax2.set_xticklabels(['0', f'{round(t_max/4)}', f'{round(t_max/2)}', f'{round(3*t_max/4)}', f'{round(t_max)}'])\n",
    "#ax2.set_yticks([0, Psur[-1], 1])\n",
    "#ax2.set_yticklabels(['0', f'{Psur[-1]:.2f}', '1'])\n",
    "ax1.set_ylabel(r'$\\alpha$')\n",
    "ax2.set_xlabel(r'$t$')\n",
    "ax2.set_ylabel(r'$P_{\\text{sur}}$')\n",
    "plt.show()"
   ],
   "id": "9be258a75fca3552",
   "execution_count": null,
   "outputs": []
  },
  {
   "metadata": {
    "ExecuteTime": {
     "end_time": "2024-12-17T12:07:38.287664Z",
     "start_time": "2024-12-17T12:07:38.278227Z"
    }
   },
   "cell_type": "code",
   "source": [
    "#\n",
    "# Now do the coupling with electric fields\n",
    "#\n",
    "\n",
    "E_1_E_2 = 10\n",
    "E0s = [E_1_E_2, E_1_E_2, E_1_E_2/10] # Probe pulse is smaller\n",
    "omegas = [omega_a, omega_a, omega_a]\n",
    "t0s = [t_max/100, t_max/10, t_max/2]\n",
    "Delta_ts = [t0s[0], t0s[1]/10, t0s[2]/50] # narrow width of the pulses\n",
    "phi3 = 0  * np.pi\n",
    "phi12 = 2  * np.pi\n",
    "phis = [phi12, phi12, phi3]  # Phase-kick?, pulse 1 and 2 are phase locked!\n",
    "\n",
    "def heaviside(x):\n",
    "    return 1 if x >= 0 else 0\n",
    "\n",
    "def El_field(t, args):\n",
    "    j = args['j']\n",
    "    Delta = Delta_ts[j]\n",
    "    E0 = E0s[j]\n",
    "    omega = omegas[j]\n",
    "    phi = phis[j]\n",
    "    t0 = t0s[j]\n",
    "    E = 1 / np.sqrt(2) * E0 * heaviside(Delta - np.abs(t - t0)) * np.cos(np.pi*(t - t0)/(2*Delta))**2 * np.cos(omega * (t - t0) + phi)\n",
    "    return E\n",
    "def El_field1(t):\n",
    "    Delta = Delta_ts[0]\n",
    "    E0 = E0s[0]\n",
    "    omega = omegas[0]\n",
    "    phi = phis[0]\n",
    "    t0 = t0s[0]\n",
    "    E = 1 / np.sqrt(2) * E0 * heaviside(Delta - np.abs(t - t0)) * np.cos(np.pi*(t - t0)/(2*Delta))**2 * np.cos(omega * (t - t0) + phi)\n",
    "    return E\n",
    "def El_field2(t):\n",
    "    Delta = Delta_ts[1]\n",
    "    E0 = E0s[1]\n",
    "    omega = omegas[1]\n",
    "    phi = phis[1]\n",
    "    t0 = t0s[1]\n",
    "    E = 1 / np.sqrt(2) * E0 * heaviside(Delta - np.abs(t - t0)) * np.cos(np.pi*(t - t0)/(2*Delta))**2 * np.cos(omega * (t - t0) + phi)\n",
    "    return E\n",
    "def El_field3(t):\n",
    "    Delta = Delta_ts[2]\n",
    "    E0 = E0s[2]\n",
    "    omega = omegas[2]\n",
    "    phi = phis[2]\n",
    "    t0 = t0s[2]\n",
    "    E = 1 / np.sqrt(2) * E0 * heaviside(Delta - np.abs(t - t0)) * np.cos(np.pi*(t - t0)/(2*Delta))**2 * np.cos(omega * (t - t0) + phi)\n",
    "    return E"
   ],
   "id": "dfed89d965629777",
   "execution_count": 36,
   "outputs": []
  },
  {
   "metadata": {
    "ExecuteTime": {
     "end_time": "2024-12-17T12:07:39.384137Z",
     "start_time": "2024-12-17T12:07:38.791982Z"
    }
   },
   "cell_type": "code",
   "source": [
    "plt.figure(figsize=(10, 6))\n",
    "for j in range(3):\n",
    "    E_values = [El_field(ti, {'j': j}) for ti in times]\n",
    "    plt.plot(times, E_values, label=f'j = {j}')\n",
    "\n",
    "plt.title('Electric Field for Different j Values')\n",
    "plt.xlabel('Time (t)')\n",
    "plt.ylabel('Electric Field (E)')\n",
    "plt.legend()\n",
    "plt.grid(True)\n",
    "plt.show()"
   ],
   "id": "6f28ebb16acee9f5",
   "execution_count": 37,
   "outputs": []
  },
  {
   "metadata": {
    "ExecuteTime": {
     "end_time": "2024-12-17T12:06:05.836849Z",
     "start_time": "2024-12-17T12:06:05.833696Z"
    }
   },
   "cell_type": "code",
   "source": [
    "H = [ H0,           # Time-independent part of the Hamiltonian\n",
    "[- dip_op, El_field1], # H1 with function-based time dependence\n",
    "[- dip_op, El_field2], # H2 (same function)\n",
    "[- dip_op, El_field3], # H3 (same function)\n",
    "]"
   ],
   "id": "c52fbd72f2e51cdb",
   "execution_count": 25,
   "outputs": []
  },
  {
   "metadata": {
    "ExecuteTime": {
     "end_time": "2024-12-17T12:05:45.075713Z",
     "start_time": "2024-12-17T12:05:43.648172Z"
    }
   },
   "cell_type": "code",
   "source": "output = mesolve(H, psiini, times, c_op_list, e_op_list)",
   "id": "1e510dd82e46c36f",
   "execution_count": 21,
   "outputs": []
  },
  {
   "metadata": {
    "ExecuteTime": {
     "end_time": "2024-12-17T12:05:45.924370Z",
     "start_time": "2024-12-17T12:05:45.081706Z"
    }
   },
   "cell_type": "code",
   "source": [
    "# evolution\n",
    "plt.figure()\n",
    "for i in range(1, N_atoms+1):\n",
    "    label = str(i) if i < 5 else None\n",
    "    plt.plot(times, output.expect[i], label=label)\n",
    "plt.xlabel(\"Time\")\n",
    "plt.ylabel(\"Population\")\n",
    "Psur = sum(output.expect[i] for i in range(1,N_atoms+1))\n",
    "plt.plot(times, output.expect[0], label=\"g\")\n",
    "plt.plot(times, Psur, label= r\"$P_{\\text{sur}}$\")\n",
    "plt.legend(title=\"$|i>$\")\n",
    "\n",
    "plt.title(\"Evolution of Populations\")\n",
    "plt.show()\n",
    "\n",
    "# y1: 2D array with shape (len(times), N_atoms)\n",
    "y1 = np.array(output.expect[1:]).T # neglect ground state\n",
    "fig, (ax1, ax2) = plt.subplots(2, 1, sharex=True, gridspec_kw={'height_ratios': [2.5, 1]}, constrained_layout=True, figsize=(8,6))\n",
    "\n",
    "im = ax1.imshow(y1.T, aspect='auto', origin='lower', cmap='coolwarm', extent=[0, t_max, 0, N_atoms])\n",
    "yticks = [0] + [i * n_rings for i in range(1, n_chains + 1)]\n",
    "ax1.set_yticks(yticks)\n",
    "\n",
    "ax2.plot(times, Psur, color='green', linewidth=2.5, label='collective')\n",
    "ax2.plot(times, np.exp(-times), 'r--', linewidth=2.5, label='1 atom')\n",
    "\n",
    "max_value = np.max(y1)\n",
    "cbar = fig.colorbar(im, ax=ax1, label=r'$ \\vert c_{\\alpha}(t)\\vert ^2$')\n",
    "cbar.set_ticks([0, max_value])\n",
    "cbar.set_ticklabels([r'0', f'{max_value:.1f}'])\n",
    "\n",
    "ax2.set_ylim(0, 1.01)\n",
    "ax2.set_xticks([0, round(t_max/4), round(t_max/2), round(3* t_max/4), t_max])\n",
    "ax2.set_xticklabels(['0', f'{round(t_max/4)}', f'{round(t_max/2)}', f'{round(3*t_max/4)}', f'{round(t_max)}'])\n",
    "#ax2.set_yticks([0, Psur[-1], 1])\n",
    "#ax2.set_yticklabels(['0', f'{Psur[-1]:.2f}', '1'])\n",
    "ax1.set_ylabel(r'$\\alpha$')\n",
    "ax2.set_xlabel(r'$t$')\n",
    "ax2.set_ylabel(r'$P_{\\text{sur}}$')\n",
    "plt.show()"
   ],
   "id": "e8b8a394eed14b1a",
   "execution_count": 22,
   "outputs": []
  }
 ],
 "metadata": {
  "kernelspec": {
   "display_name": "Python 3",
   "language": "python",
   "name": "python3"
  },
  "language_info": {
   "codemirror_mode": {
    "name": "ipython",
    "version": 2
   },
   "file_extension": ".py",
   "mimetype": "text/x-python",
   "name": "python",
   "nbconvert_exporter": "python",
   "pygments_lexer": "ipython2",
   "version": "2.7.6"
  }
 },
 "nbformat": 4,
 "nbformat_minor": 5
}

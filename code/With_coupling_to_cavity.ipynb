{
 "cells": [
  {
   "metadata": {
    "ExecuteTime": {
     "end_time": "2024-12-17T08:12:45.997705Z",
     "start_time": "2024-12-17T08:12:45.249481Z"
    }
   },
   "cell_type": "code",
   "source": [
    "import matplotlib.pyplot as plt\n",
    "import numpy as np\n",
    "\n",
    "from qutip import * \n",
    "import os\n",
    "\n",
    "from samba.ntstatus import NT_STATUS_GRAPHICS_PATH_NOT_IN_TOPOLOGY\n",
    "from scanext import CONSTRAINT_RANGE\n",
    "\n",
    "# Matplotlib Einstellungen gemäß den LaTeX-Caption-Formatierungen\n",
    "plt.rcParams.update({\n",
    "#    'text.usetex': True,              # Enable LaTeX for text rendering\n",
    "#    'font.family': 'serif',           # Use a serif font family\n",
    "#    'font.serif': 'Palatino',         # Set Palatino as the serif font\n",
    "#    'text.latex.preamble': r'\\usepackage{amsmath}',\n",
    "#    'font.size': 20,                   # Font size for general text\n",
    "#    'axes.titlesize': 20,              # Font size for axis titles\n",
    "#    'axes.labelsize': 20,              # Font size for axis labels\n",
    "#    'xtick.labelsize': 20,             # Font size for x-axis tick labels\n",
    "#    'ytick.labelsize': 20,             # Font size for y-axis tick labels\n",
    "#    'legend.fontsize': 20,             # Font size for legends\n",
    "#    'figure.figsize': [8, 6],          # Size of the plot (width x height)\n",
    "#    'figure.autolayout': True,         # Automatic layout adjustment\n",
    "#    'savefig.format': 'svg',           # Default format for saving figures\n",
    "#    'figure.facecolor': 'none',        # Make the figure face color transparent\n",
    "#    'axes.facecolor': 'none',          # Make the axes face color transparent\n",
    "#    'savefig.transparent': True        # Save figures with transparent background\n",
    "})\n",
    "\n",
    "output_dir = r\"C:\\Users\\leopo\\OneDrive - UT Cloud\\Uni\\Semester_9\\Master_thesis\\Figures_From_Python\"\n",
    "os.makedirs(output_dir, exist_ok=True)\n",
    "\n",
    "# allows for interactive plots\n",
    "#%matplotlib notebook"
   ],
   "id": "initial_id",
   "execution_count": 1,
   "outputs": []
  },
  {
   "metadata": {},
   "cell_type": "markdown",
   "source": [
    "$$\n",
    "H = H_0 + H_I\n",
    "$$\n",
    "$$\n",
    "H_0 = \\hbar  \\omega_a \\sum_{i=1}^{N_{\\text{atoms}}} \\sigma_+^{(i)} \\sigma_-^{(i)}\n",
    "- \\hbar \\sum_{i,j=1}^{N_\\text{{atoms}}} J_{i j} \\sigma_+^{(i)} \\sigma_-^{(j)}\n",
    "+ \\hbar \\omega_c a^{\\dagger}a\n",
    "$$\n",
    "\n",
    "$$\n",
    "H_I = \\hbar  g \\Sigma_x (a^{\\dagger} + a).\n",
    "$$\n",
    "\n",
    "$$\n",
    "\\displaystyle J_{i j} = \\frac{\\alpha}{|r_i-r_j|}.\n",
    "$$"
   ],
   "id": "fbde5d7951a8a53b"
  },
  {
   "metadata": {
    "ExecuteTime": {
     "end_time": "2024-12-17T08:21:21.039827Z",
     "start_time": "2024-12-17T08:21:21.035756Z"
    }
   },
   "cell_type": "code",
   "source": [
    "# Set the system parameters\n",
    "n_rings = 1\n",
    "n_chains = 1 # number of chains\n",
    "N_atoms = n_chains * n_rings  # number of atoms\n",
    "\n",
    "fixed_lam = 1.                # energysplitting of the atom, when ground state is set to 0\n",
    "omega_a = 2 * np.pi / fixed_lam # actually k_a\n",
    "omega_c = omega_a\n",
    "distance = 1 * fixed_lam # defining topology                                    0.1 <--\n",
    "g = .1 # coupling strength between cavity and atomic system\n",
    "\n",
    "gamma_0 = .1   # decay rate of the atoms\n",
    "gamma_phi = .1 # dephasing rate of the atoms\n",
    "\n",
    "alpha = 1. # coupling strength of the dipoles       Fine structure const?\n",
    "mu    = 1. # dipole strength\n",
    "# evolution\n",
    "t_max = 50"
   ],
   "id": "76bb23c3f08969f5",
   "execution_count": 63,
   "outputs": []
  },
  {
   "metadata": {
    "ExecuteTime": {
     "end_time": "2024-12-17T08:21:21.238483Z",
     "start_time": "2024-12-17T08:21:21.227794Z"
    }
   },
   "cell_type": "code",
   "source": [
    "########################################               define the geometry                 #############################################\n",
    "def chain_positions(distance, N_atoms):\n",
    "    Pos = np.zeros((N_atoms, 3))\n",
    "    for i in range(N_atoms):\n",
    "        Pos[i, 2] = i * distance\n",
    "    return Pos\n",
    "\n",
    "def z_rotation(angle):\n",
    "    return np.array([\n",
    "        [np.cos(angle), -np.sin(angle), 0],\n",
    "        [np.sin(angle),  np.cos(angle), 0],\n",
    "        [0,              0,            1]])\n",
    "\n",
    "def ring_positions(distance, n_chains):\n",
    "    Pos = np.zeros((n_chains, 3))\n",
    "    dphi = 2 * np.pi / n_chains\n",
    "    if n_chains == 1:\n",
    "        radius = 0\n",
    "    else:\n",
    "        radius = distance / 2 / np.sin(np.pi / n_chains)\n",
    "    helper = np.array([radius, 0, 0])\n",
    "    for i in range(n_chains):\n",
    "        rotation_matrix = z_rotation(dphi * i)\n",
    "        Pos[i] = np.matmul(rotation_matrix, helper)\n",
    "    return Pos\n",
    "\n",
    "def cyl_positions(distance, N_atoms, n_chains):\n",
    "    Pos = np.zeros((N_atoms, 3))\n",
    "    Pos_chain = chain_positions(distance, N_atoms // n_chains)\n",
    "    Pos_ring = ring_positions(distance, n_chains)\n",
    "    for i in range(n_chains):\n",
    "        Pos[i * (N_atoms // n_chains): (i + 1) * (N_atoms // n_chains)] = Pos_chain + Pos_ring[i]\n",
    "    return Pos"
   ],
   "id": "6595ef766741d55a",
   "execution_count": 64,
   "outputs": []
  },
  {
   "metadata": {
    "ExecuteTime": {
     "end_time": "2024-12-17T08:21:21.587309Z",
     "start_time": "2024-12-17T08:21:21.452511Z"
    }
   },
   "cell_type": "code",
   "source": [
    "Pos = cyl_positions(distance, N_atoms, n_chains)\n",
    "\n",
    "# Plotting \n",
    "fig = plt.figure(figsize=(8, 6)) \n",
    "ax = fig.add_subplot(111, projection='3d') \n",
    "# Plot the positions \n",
    "ax.scatter(Pos[:, 0], Pos[:, 1], Pos[:, 2], c='b', marker='o') \n",
    "ax.set_xlabel('X')\n",
    "ax.set_ylabel('Y')\n",
    "ax.set_zlabel('Z')\n",
    "ax.set_title('Positions and Dipoles')\n",
    "ax.axis('equal')\n",
    "plt.show()"
   ],
   "id": "56a449ed10aea37a",
   "execution_count": 65,
   "outputs": []
  },
  {
   "metadata": {
    "ExecuteTime": {
     "end_time": "2024-12-17T08:21:21.648898Z",
     "start_time": "2024-12-17T08:21:21.641698Z"
    }
   },
   "cell_type": "code",
   "source": [
    "# Define the ground & the excited states\n",
    "# atomic dof\n",
    "ground_state = basis(N_atoms + 1, 0)\n",
    "excited_states = [basis(N_atoms + 1, i) for i in range(1, N_atoms + 1)]\n",
    "sm_list = []\n",
    "atomic_dip = 0\n",
    "for i in range(N_atoms):\n",
    "    op = tensor(qeye(2), ground_state * excited_states[i].dag())\n",
    "    sm_list.append(op)\n",
    "    atomic_dip += mu * op + mu * op.dag()\n",
    "\n",
    "# cavity dof\n",
    "psi0 = basis(2, 0)\n",
    "psi1 = basis(2, 1)"
   ],
   "id": "30981b09e6812d74",
   "execution_count": 66,
   "outputs": []
  },
  {
   "metadata": {
    "ExecuteTime": {
     "end_time": "2024-12-17T08:21:21.713501Z",
     "start_time": "2024-12-17T08:21:21.708173Z"
    }
   },
   "cell_type": "code",
   "source": [
    "# initial state\n",
    "psiini = tensor([psi1, basis(N_atoms+1, 0)]) # = |1>_gamma ø |g>_atom\n",
    "psiini"
   ],
   "id": "1642e4e64aabe1cb",
   "execution_count": 67,
   "outputs": []
  },
  {
   "metadata": {
    "ExecuteTime": {
     "end_time": "2024-12-17T08:21:21.909297Z",
     "start_time": "2024-12-17T08:21:21.902807Z"
    }
   },
   "cell_type": "code",
   "source": [
    "def Hamilton0(distance, n_rings, n_chains):\n",
    "    N_atoms = n_chains * n_rings\n",
    "    Pos = cyl_positions(distance, N_atoms, n_chains)\n",
    "    H = 0\n",
    "    for a in range(N_atoms):\n",
    "        for b in range(N_atoms):\n",
    "            base = sm_list[a].dag() * sm_list[b]\n",
    "            if a != b:\n",
    "                ra, rb = Pos[a, :], Pos[b, :]\n",
    "                H += alpha / (np.linalg.norm(rb-ra))* base\n",
    "            else:\n",
    "                H +=  omega_a * base # Diagonals except for |0><0|\n",
    "    H += omega_c * tensor([create(2)*destroy(2), ground_state*ground_state.dag()])\n",
    "\n",
    "    # interaction Operator\n",
    "    H += g * atomic_dip * tensor((create(2) + destroy(2)), qeye(N_atoms+1))\n",
    "\n",
    "    return H\n",
    "    \n",
    "H0 = Hamilton0(distance, n_rings, n_chains)\n",
    "\n",
    "H0"
   ],
   "id": "380af6c3a14f9291",
   "execution_count": 68,
   "outputs": []
  },
  {
   "metadata": {},
   "cell_type": "markdown",
   "source": [
    "## Single case\n",
    "\n",
    "$$\n",
    "C_{\\text{decay}}^{(i)} = \\sqrt{\\gamma_0} \\sigma_-^{(i)} \\quad\n",
    "C_{\\text{dephase}}^{(i)} = \\sqrt{\\gamma_\\phi} \\sigma_z^{(i)}\n",
    "$$\n",
    "\n",
    "## Collective case\n",
    "$$\n",
    "C_{\\text{decay}} = \\sum_{n=1}^{N_{\\text{atoms}}} C_{\\text{decay}}^{(i)} \\quad\n",
    "C_{\\text{dephase}} = \\sum_{n=1}^{N_\\text{atoms}} C_{\\text{dephase}}^{(i)}\n",
    "$$"
   ],
   "id": "6816d8512eca0f32"
  },
  {
   "metadata": {
    "ExecuteTime": {
     "end_time": "2024-12-17T08:21:22.314721Z",
     "start_time": "2024-12-17T08:21:22.310294Z"
    }
   },
   "cell_type": "code",
   "source": [
    "# Jump / Expect Operators\n",
    "\n",
    "'''# TRASH DOESNT DO ANYTHING?c_op1 = [np.sqrt(gamma_0) * sum(sm_list)]                                       # COLLECTIVE DECAY??? doesnt work?\n",
    "# TRASH DOESNT DO ANYTHING?c_op3 = [np.sqrt(gamma_phi) * sum(commutator(sm.dag(), sm) for sm in sm_list)]  # COLLECTIVE DEPHASNG'''\n",
    "\n",
    "# Define the decay collapse and dephasing operator for each spin\n",
    "c_op2 = [np.sqrt(gamma_0) * sm for sm in sm_list]                                                          # EVERY ATOM DECAYS on its own\n",
    "c_op4 = [np.sqrt(gamma_phi) * commutator(sm.dag(), sm) for sm in sm_list]                                  # EVEY ATOM DEPHASES\n",
    "\n",
    "c_op_list = c_op2 + c_op4\n",
    "\n",
    "e_op_list = [tensor(psi0 * psi0.dag(),basis(N_atoms+1, i) * basis(N_atoms+1, i).dag()) for i in range(0,N_atoms+1)] #"
   ],
   "id": "5462a0943d85d3f0",
   "execution_count": 69,
   "outputs": []
  },
  {
   "metadata": {
    "ExecuteTime": {
     "end_time": "2024-12-17T08:21:25.603031Z",
     "start_time": "2024-12-17T08:21:22.497616Z"
    }
   },
   "cell_type": "code",
   "source": [
    "# evolution\n",
    "times = np.linspace(0, t_max, t_max * 1000) # list of times\n",
    "\n",
    "result = mesolve(H0, psiini, times, c_ops = c_op_list, e_ops = e_op_list) #, options={\"store_states\": True}\n",
    "print(result)\n",
    "# Plot the expectation values\n",
    "plt.figure()\n",
    "for i in range(1, N_atoms+1):\n",
    "    label = str(i) if i < 5 else None\n",
    "    plt.plot(times, result.expect[i], label=label)\n",
    "plt.xlabel(\"Time\")\n",
    "plt.ylabel(\"Population\")\n",
    "Psur = sum(result.expect[i] for i in range(1,N_atoms+1)) \n",
    "plt.plot(times, result.expect[0], label=\"g\")\n",
    "plt.plot(times, Psur, label= r\"$P_{\\text{sur}}$\")\n",
    "plt.legend(title=\"$|i>$\")\n",
    "\n",
    "plt.title(\"Evolution of Populations\")\n",
    "plt.show()"
   ],
   "id": "347308b760af281d",
   "execution_count": 70,
   "outputs": []
  },
  {
   "metadata": {
    "ExecuteTime": {
     "end_time": "2024-12-17T08:21:25.616398Z",
     "start_time": "2024-12-17T08:21:25.607492Z"
    }
   },
   "cell_type": "code",
   "source": [
    "# y1: 2D array with shape (len(times), N_atoms) \n",
    "y1 = np.array(result.expect[1:]).T # neglect ground state"
   ],
   "id": "da42c17ed1e47ce7",
   "execution_count": 71,
   "outputs": []
  },
  {
   "metadata": {
    "ExecuteTime": {
     "end_time": "2024-12-17T08:21:26.587094Z",
     "start_time": "2024-12-17T08:21:25.661276Z"
    }
   },
   "cell_type": "code",
   "source": [
    "Qfig, (ax1, ax2) = plt.subplots(2, 1, sharex=True, gridspec_kw={'height_ratios': [2.5, 1]}, constrained_layout=True, figsize=(8,6))\n",
    "\n",
    "im = ax1.imshow(y1.T, aspect='auto', origin='lower', cmap='coolwarm', extent=[0, t_max, 0, N_atoms])\n",
    "yticks = [0] + [i * n_rings for i in range(1, n_chains + 1)] \n",
    "ax1.set_yticks(yticks)\n",
    "\n",
    "ax2.plot(times, Psur, color='green', linewidth=2.5, label='collective')\n",
    "ax2.plot(times, np.exp(-times), 'r--', linewidth=2.5, label='1 atom')\n",
    "\n",
    "max_value = np.max(y1)\n",
    "cbar = fig.colorbar(im, ax=ax1, label=r'$ \\vert c_{\\alpha}(t)\\vert ^2$')\n",
    "cbar.set_ticks([0, max_value])\n",
    "cbar.set_ticklabels([r'0', f'{max_value:.1f}'])\n",
    "\n",
    "ax2.set_ylim(0, 1.01)\n",
    "ax2.set_xticks([0, round(t_max/4), round(t_max/2), round(3* t_max/4), t_max])\n",
    "ax2.set_xticklabels(['0', f'{round(t_max/4)}', f'{round(t_max/2)}', f'{round(3*t_max/4)}', f'{round(t_max)}'])\n",
    "#ax2.set_yticks([0, Psur[-1], 1])\n",
    "#ax2.set_yticklabels(['0', f'{Psur[-1]:.2f}', '1'])\n",
    "ax1.set_ylabel(r'$\\alpha$')\n",
    "ax2.set_xlabel(r'$t$')\n",
    "ax2.set_ylabel(r'$P_{\\text{sur}}$')\n",
    "plt.show()"
   ],
   "id": "9be258a75fca3552",
   "execution_count": 72,
   "outputs": []
  },
  {
   "metadata": {
    "ExecuteTime": {
     "end_time": "2024-12-17T08:21:26.608431Z",
     "start_time": "2024-12-17T08:21:26.606810Z"
    }
   },
   "cell_type": "code",
   "source": "",
   "id": "361a75d30f2ea25d",
   "execution_count": null,
   "outputs": []
  },
  {
   "metadata": {
    "ExecuteTime": {
     "end_time": "2024-12-17T08:14:55.216156Z",
     "start_time": "2024-12-17T08:14:55.210947Z"
    }
   },
   "cell_type": "code",
   "source": [
    "E_1_E_2 = 100\n",
    "E0s = [E_1_E_2, E_1_E_2, E_1_E_2/10] # Probe pulse is smaller\n",
    "omegas = [omega_a, omega_a, omega_a]\n",
    "t0s = [t_max//10, t_max//2, t_max/1.3]\n",
    "Deleta_ts = [t_max/100, t_max/100, t_max/100] # narrow width of the pulses\n",
    "\n",
    "phis = [0 * np.pi, 0 * np.pi, 0 * np.pi]  # Phase-kick?\n",
    "\n",
    "def heaviside(x):\n",
    "    return 1 if x >= 0 else 0\n",
    "\n",
    "def El_field(t, args):\n",
    "    j = args['j']\n",
    "    Delta = Deleta_ts[j]\n",
    "    E0 = E0s[j]\n",
    "    omega = omegas[j]\n",
    "    phi = phis[j]\n",
    "    t0 = t0s[j]\n",
    "    E = 1 / np.sqrt(2) * E0 * heaviside(Delta - np.abs(t - t0)) * np.cos(np.pi*(t - t0)/(2*Delta))**2 * np.cos(omega * (t - t0) + phi)\n",
    "    return E"
   ],
   "id": "dfed89d965629777",
   "execution_count": 29,
   "outputs": []
  },
  {
   "metadata": {
    "ExecuteTime": {
     "end_time": "2024-12-17T08:14:55.264074Z",
     "start_time": "2024-12-17T08:14:55.259639Z"
    }
   },
   "cell_type": "code",
   "source": [
    "def El_field1(t):\n",
    "    Delta = Deleta_ts[0]\n",
    "    E0 = E0s[0]\n",
    "    omega = omegas[0]\n",
    "    phi = phis[0]\n",
    "    t0 = t0s[0]\n",
    "    E = 1 / np.sqrt(2) * E0 * heaviside(Delta - np.abs(t - t0)) * np.cos(np.pi*(t - t0)/(2*Delta))**2 * np.cos(omega * (t - t0) + phi)\n",
    "    return E\n",
    "def El_field2(t):\n",
    "    Delta = Deleta_ts[1]\n",
    "    E0 = E0s[1]\n",
    "    omega = omegas[1]\n",
    "    phi = phis[1]\n",
    "    t0 = t0s[1]\n",
    "    E = 1 / np.sqrt(2) * E0 * heaviside(Delta - np.abs(t - t0)) * np.cos(np.pi*(t - t0)/(2*Delta))**2 * np.cos(omega * (t - t0) + phi)\n",
    "    return E\n",
    "def El_field3(t):\n",
    "    Delta = Deleta_ts[2]\n",
    "    E0 = E0s[2]\n",
    "    omega = omegas[2]\n",
    "    phi = phis[2]\n",
    "    t0 = t0s[2]\n",
    "    E = 1 / np.sqrt(2) * E0 * heaviside(Delta - np.abs(t - t0)) * np.cos(np.pi*(t - t0)/(2*Delta))**2 * np.cos(omega * (t - t0) + phi)\n",
    "    return E"
   ],
   "id": "9e1af8b46adbe96f",
   "execution_count": 30,
   "outputs": []
  },
  {
   "metadata": {
    "ExecuteTime": {
     "end_time": "2024-12-17T12:04:32.807100Z",
     "start_time": "2024-12-17T12:04:32.022676Z"
    }
   },
   "cell_type": "code",
   "source": [
    "plt.figure(figsize=(10, 6))\n",
    "for j in range(3):\n",
    "    E_values = [El_field(ti, {'j': j}) for ti in times]\n",
    "    plt.plot(times, E_values, label=f'j = {j}')\n",
    "\n",
    "plt.title('Electric Field for Different j Values')\n",
    "plt.xlabel('Time (t)')\n",
    "plt.ylabel('Electric Field (E)')\n",
    "plt.legend()\n",
    "plt.grid(True)\n",
    "plt.show()"
   ],
   "id": "6f28ebb16acee9f5",
   "execution_count": 73,
   "outputs": []
  },
  {
   "metadata": {},
   "cell_type": "code",
   "source": [
    "H = [ H0,           # Time-independent part of the Hamiltonian\n",
    "[- atomic_dip, El_field1], # H1 with function-based time dependence\n",
    "[- atomic_dip, El_field2], # H2 (same function)\n",
    "[- atomic_dip, El_field3], # H3 (same function)\n",
    "]"
   ],
   "id": "c52fbd72f2e51cdb",
   "execution_count": null,
   "outputs": []
  },
  {
   "metadata": {},
   "cell_type": "code",
   "source": "output = mesolve(H, psiini, times, c_op_list, e_op_list)",
   "id": "1e510dd82e46c36f",
   "execution_count": null,
   "outputs": []
  },
  {
   "metadata": {},
   "cell_type": "code",
   "source": [
    "# evolution\n",
    "plt.figure()\n",
    "for i in range(1, N_atoms+1):\n",
    "    label = str(i) if i < 5 else None\n",
    "    plt.plot(times, output.expect[i], label=label)\n",
    "plt.xlabel(\"Time\")\n",
    "plt.ylabel(\"Population\")\n",
    "Psur = sum(output.expect[i] for i in range(1,N_atoms+1))\n",
    "plt.plot(times, output.expect[0], label=\"g\")\n",
    "plt.plot(times, Psur, label= r\"$P_{\\text{sur}}$\")\n",
    "plt.legend(title=\"$|i>$\")\n",
    "\n",
    "plt.title(\"Evolution of Populations\")\n",
    "plt.show()\n",
    "\n",
    "# y1: 2D array with shape (len(times), N_atoms)\n",
    "y1 = np.array(output.expect[1:]).T # neglect ground state\n",
    "fig, (ax1, ax2) = plt.subplots(2, 1, sharex=True, gridspec_kw={'height_ratios': [2.5, 1]}, constrained_layout=True, figsize=(8,6))\n",
    "\n",
    "im = ax1.imshow(y1.T, aspect='auto', origin='lower', cmap='coolwarm', extent=[0, t_max, 0, N_atoms])\n",
    "yticks = [0] + [i * n_rings for i in range(1, n_chains + 1)]\n",
    "ax1.set_yticks(yticks)\n",
    "\n",
    "ax2.plot(times, Psur, color='green', linewidth=2.5, label='collective')\n",
    "ax2.plot(times, np.exp(-times), 'r--', linewidth=2.5, label='1 atom')\n",
    "\n",
    "max_value = np.max(y1)\n",
    "cbar = fig.colorbar(im, ax=ax1, label=r'$ \\vert c_{\\alpha}(t)\\vert ^2$')\n",
    "cbar.set_ticks([0, max_value])\n",
    "cbar.set_ticklabels([r'0', f'{max_value:.1f}'])\n",
    "\n",
    "ax2.set_ylim(0, 1.01)\n",
    "ax2.set_xticks([0, round(t_max/4), round(t_max/2), round(3* t_max/4), t_max])\n",
    "ax2.set_xticklabels(['0', f'{round(t_max/4)}', f'{round(t_max/2)}', f'{round(3*t_max/4)}', f'{round(t_max)}'])\n",
    "#ax2.set_yticks([0, Psur[-1], 1])\n",
    "#ax2.set_yticklabels(['0', f'{Psur[-1]:.2f}', '1'])\n",
    "ax1.set_ylabel(r'$\\alpha$')\n",
    "ax2.set_xlabel(r'$t$')\n",
    "ax2.set_ylabel(r'$P_{\\text{sur}}$')\n",
    "plt.show()"
   ],
   "id": "e8b8a394eed14b1a",
   "execution_count": null,
   "outputs": []
  },
  {
   "metadata": {},
   "cell_type": "code",
   "source": "",
   "id": "1d538b5f2c875686",
   "execution_count": null,
   "outputs": []
  },
  {
   "metadata": {},
   "cell_type": "code",
   "source": "",
   "id": "e7de984c6c88b10",
   "execution_count": null,
   "outputs": []
  },
  {
   "metadata": {},
   "cell_type": "code",
   "source": "",
   "id": "220ae78fcdd9a4d",
   "execution_count": null,
   "outputs": []
  },
  {
   "metadata": {},
   "cell_type": "code",
   "source": "",
   "id": "bd5e45b8d2f4509e",
   "execution_count": null,
   "outputs": []
  },
  {
   "metadata": {},
   "cell_type": "code",
   "source": "",
   "id": "4c5762ac79c77979",
   "execution_count": null,
   "outputs": []
  },
  {
   "metadata": {},
   "cell_type": "code",
   "source": "",
   "id": "6f1fe39686978f08",
   "execution_count": null,
   "outputs": []
  },
  {
   "metadata": {},
   "cell_type": "code",
   "source": "",
   "id": "6c7eea16c50b3c09",
   "execution_count": null,
   "outputs": []
  }
 ],
 "metadata": {
  "kernelspec": {
   "display_name": "Python 3",
   "language": "python",
   "name": "python3"
  },
  "language_info": {
   "codemirror_mode": {
    "name": "ipython",
    "version": 2
   },
   "file_extension": ".py",
   "mimetype": "text/x-python",
   "name": "python",
   "nbconvert_exporter": "python",
   "pygments_lexer": "ipython2",
   "version": "2.7.6"
  }
 },
 "nbformat": 4,
 "nbformat_minor": 5
}

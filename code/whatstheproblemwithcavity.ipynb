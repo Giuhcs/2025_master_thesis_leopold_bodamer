{
 "cells": [
  {
   "metadata": {
    "ExecuteTime": {
     "end_time": "2025-01-27T15:20:15.962109Z",
     "start_time": "2025-01-27T15:20:15.957772Z"
    }
   },
   "cell_type": "code",
   "source": [
    "import matplotlib.pyplot as plt\n",
    "import numpy as np\n",
    "\n",
    "from qutip import * \n",
    "import os\n",
    "\n",
    "from samba.ntstatus import NT_STATUS_GRAPHICS_PATH_NOT_IN_TOPOLOGY\n",
    "from scanext import CONSTRAINT_RANGE\n",
    "\n",
    "# Matplotlib Einstellungen gemäß den LaTeX-Caption-Formatierungen\n",
    "plt.rcParams.update({\n",
    "#    'text.usetex': True,              # Enable LaTeX for text rendering\n",
    "#    'font.family': 'serif',           # Use a serif font family\n",
    "#    'font.serif': 'Palatino',         # Set Palatino as the serif font\n",
    "#    'text.latex.preamble': r'\\usepackage{amsmath}',\n",
    "#    'font.size': 20,                   # Font size for general text\n",
    "#    'axes.titlesize': 20,              # Font size for axis titles\n",
    "#    'axes.labelsize': 20,              # Font size for axis labels\n",
    "#    'xtick.labelsize': 20,             # Font size for x-axis tick labels\n",
    "#    'ytick.labelsize': 20,             # Font size for y-axis tick labels\n",
    "#    'legend.fontsize': 20,             # Font size for legends\n",
    "#    'figure.figsize': [8, 6],          # Size of the plot (width x height)\n",
    "#    'figure.autolayout': True,         # Automatic layout adjustment\n",
    "#    'savefig.format': 'svg',           # Default format for saving figures\n",
    "#    'figure.facecolor': 'none',        # Make the figure face color transparent\n",
    "#    'axes.facecolor': 'none',          # Make the axes face color transparent\n",
    "#    'savefig.transparent': True        # Save figures with transparent background\n",
    "})\n",
    "\n",
    "output_dir = r\"C:\\Users\\leopo\\OneDrive - UT Cloud\\Uni\\Semester_9\\Master_thesis\\Figures_From_Python\"\n",
    "os.makedirs(output_dir, exist_ok=True)\n",
    "\n",
    "# allows for interactive plots\n",
    "#%matplotlib notebook"
   ],
   "id": "initial_id",
   "outputs": [],
   "execution_count": 2
  },
  {
   "metadata": {},
   "cell_type": "markdown",
   "source": [
    "$$\n",
    "H = H_0 + H_I\n",
    "$$\n",
    "$$\n",
    "H_0 = a^{\\dagger} a + \\sigma_+ \\sigma_\n",
    "$$\n",
    "\n",
    "$$\n",
    "H_I = g(t) D (a^{\\dagger} + a)\n",
    "\\quad \\text{,} \\quad D = \\mu \\sum_{i=1}^{N_{\\text{atoms}}} \\sigma_+^{(i)} + \\sigma_-^{(i)}\n",
    "\\quad \\text{,} \\quad g(t) \\propto \\Omega_{coupling} * \\delta(t)\n",
    "$$"
   ],
   "id": "fbde5d7951a8a53b"
  },
  {
   "metadata": {
    "ExecuteTime": {
     "end_time": "2025-01-27T15:52:15.692538Z",
     "start_time": "2025-01-27T15:52:15.681763Z"
    }
   },
   "cell_type": "code",
   "source": [
    "#\n",
    "# Set the system parameters\n",
    "#\n",
    "\n",
    "# ENERGY LANDSCAPE, c = 1, hbar = 1\n",
    "omega_a = 2 * np.pi\n",
    "omega_c = omega_a\n",
    "\n",
    "# TIME EVOLUTION\n",
    "last_pulse = 10 # * gamma_0\n",
    "time_steps = 100\n",
    "times = np.linspace(0, last_det_t, time_steps) # list of times"
   ],
   "id": "76bb23c3f08969f5",
   "outputs": [],
   "execution_count": 48
  },
  {
   "metadata": {
    "ExecuteTime": {
     "end_time": "2025-01-27T15:54:05.477133Z",
     "start_time": "2025-01-27T15:54:05.467053Z"
    }
   },
   "cell_type": "code",
   "source": [
    "# Define the ground & the excited states\n",
    "# atomic dofs\n",
    "atom_g = basis(2, 0)\n",
    "atom_e = basis(2, 1)\n",
    "\n",
    "# cavity dofs\n",
    "cav_g = basis(2, 0)\n",
    "cav_e = basis(2, 1)\n",
    "\n",
    "# combined dofs\n",
    "sm = atom_g * atom_e.dag()     #|0,g><i,g|, cavity is unaffected\n",
    "Dip_op = sm + sm.dag()\n",
    "Dip_op"
   ],
   "id": "a79c14f85276137d",
   "outputs": [
    {
     "data": {
      "text/plain": [
       "Quantum object: dims=[[2], [2]], shape=(2, 2), type='oper', dtype=Dense, isherm=True\n",
       "Qobj data =\n",
       "[[0. 0.]\n",
       " [0. 1.]]"
      ],
      "text/latex": "Quantum object: dims=[[2], [2]], shape=(2, 2), type='oper', dtype=Dense, isherm=True$$\\left(\\begin{array}{cc}0 & 0\\\\0 & 1\\end{array}\\right)$$"
     },
     "execution_count": 53,
     "metadata": {},
     "output_type": "execute_result"
    }
   ],
   "execution_count": 53
  },
  {
   "metadata": {
    "ExecuteTime": {
     "end_time": "2025-01-27T15:55:30.494550Z",
     "start_time": "2025-01-27T15:55:30.488939Z"
    }
   },
   "cell_type": "code",
   "source": [
    "def Hamilton0():\n",
    "    H  = omega_a * tensor(qeye(2), sm.dag() * sm)    # 1        x   |1x1|\n",
    "    H += omega_c * tensor(ket2dm(cav_e), qeye(2))    # |1x1|    x     1\n",
    "    return H\n",
    "\n",
    "H0 = Hamilton0()\n",
    "H0"
   ],
   "id": "30981b09e6812d74",
   "outputs": [
    {
     "data": {
      "text/plain": [
       "Quantum object: dims=[[2, 2], [2, 2]], shape=(4, 4), type='oper', dtype=Dense, isherm=True\n",
       "Qobj data =\n",
       "[[ 0.          0.          0.          0.        ]\n",
       " [ 0.          6.28318531  0.          0.        ]\n",
       " [ 0.          0.          6.28318531  0.        ]\n",
       " [ 0.          0.          0.         12.56637061]]"
      ],
      "text/latex": "Quantum object: dims=[[2, 2], [2, 2]], shape=(4, 4), type='oper', dtype=Dense, isherm=True$$\\left(\\begin{array}{cc}0 & 0 & 0 & 0\\\\0 & 6.283 & 0 & 0\\\\0 & 0 & 6.283 & 0\\\\0 & 0 & 0 & 12.566\\end{array}\\right)$$"
     },
     "execution_count": 56,
     "metadata": {},
     "output_type": "execute_result"
    }
   ],
   "execution_count": 56
  },
  {
   "metadata": {
    "ExecuteTime": {
     "end_time": "2025-01-27T15:56:20.966671Z",
     "start_time": "2025-01-27T15:56:20.961361Z"
    }
   },
   "cell_type": "code",
   "source": [
    "psiini = ket2dm(tensor(cav_e, atom_g)) # = |1>_gamma ø |g>_atom\n",
    "psiini\n",
    "I = tensor(destroy(2) + create(2), qeye(N_atoms+1)) * tensor(qeye(2), Dip_op)\n",
    "I * psiini\n",
    "expect(tensor(qeye(2), Dip_op), I * psiini)"
   ],
   "id": "1642e4e64aabe1cb",
   "outputs": [
    {
     "data": {
      "text/plain": [
       "0j"
      ]
     },
     "execution_count": 58,
     "metadata": {},
     "output_type": "execute_result"
    }
   ],
   "execution_count": 58
  }
 ],
 "metadata": {
  "kernelspec": {
   "display_name": "Python 3",
   "language": "python",
   "name": "python3"
  },
  "language_info": {
   "codemirror_mode": {
    "name": "ipython",
    "version": 2
   },
   "file_extension": ".py",
   "mimetype": "text/x-python",
   "name": "python",
   "nbconvert_exporter": "python",
   "pygments_lexer": "ipython2",
   "version": "2.7.6"
  }
 },
 "nbformat": 4,
 "nbformat_minor": 5
}

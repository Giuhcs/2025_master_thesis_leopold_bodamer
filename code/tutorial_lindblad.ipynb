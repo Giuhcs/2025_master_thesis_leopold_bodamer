{
 "cells": [
  {
   "cell_type": "markdown",
   "id": "b8ad5f1a",
   "metadata": {},
   "source": [
    "# Tutorial con la ecuación de Lindblad y QMC\n",
    "$\\renewcommand{\\ket}[1]{\\left|{#1}\\right\\rangle}$\n",
    "$\\renewcommand{\\bra}[1]{\\left\\langle{#1}\\right|}$\n",
    "$\\renewcommand{\\braket}[1]{\\left\\langle{#1}\\right\\rangle}$\n",
    "\n",
    "Artículo: https://arxiv.org/pdf/1906.04478.pdf\n",
    "\n",
    "Documentación: https://qutip.org/documentation.html\n"
   ]
  },
  {
   "cell_type": "markdown",
   "id": "dff93434",
   "metadata": {},
   "source": [
    "Se prueban dinámicas de sistemas cuánticos con dos métodos distintos: la integración de la ecuación de Lindblad y el método de Monte Carlo cuántico.\n",
    "\n",
    "En primer lugar, se importan los paquetes que se van a usar en el programa. Del paquete \\texttt{matplotlib} importamos la función \\texttt{pyplot}, renombrándola como \\texttt{plt} cuando la usemos."
   ]
  },
  {
   "cell_type": "code",
   "id": "ecb7229c",
   "metadata": {
    "ExecuteTime": {
     "end_time": "2024-11-17T13:10:12.168628Z",
     "start_time": "2024-11-17T13:10:12.114883Z"
    }
   },
   "source": [
    "import matplotlib.pyplot as plt"
   ],
   "execution_count": 52,
   "outputs": []
  },
  {
   "cell_type": "markdown",
   "id": "2e34e4fe",
   "metadata": {},
   "source": [
    "Importamos \\texttt{numpy} como \\texttt{np}."
   ]
  },
  {
   "cell_type": "code",
   "id": "326a2869",
   "metadata": {
    "ExecuteTime": {
     "end_time": "2024-11-17T13:10:12.792741Z",
     "start_time": "2024-11-17T13:10:12.783832Z"
    }
   },
   "source": [
    "import numpy as np"
   ],
   "execution_count": 53,
   "outputs": []
  },
  {
   "cell_type": "markdown",
   "id": "d6e1aef5",
   "metadata": {},
   "source": [
    "De \\texttt{qutip} lo importamos todo, simbolizado con el asterisco (\\texttt{*})."
   ]
  },
  {
   "cell_type": "code",
   "id": "7fd43cbf",
   "metadata": {
    "ExecuteTime": {
     "end_time": "2024-11-17T13:10:13.669956Z",
     "start_time": "2024-11-17T13:10:13.653048Z"
    }
   },
   "source": [
    "from qutip import *"
   ],
   "execution_count": 54,
   "outputs": []
  },
  {
   "metadata": {},
   "cell_type": "markdown",
   "source": [
    "Como en el artículo, se realiza con un sistema de dos niveles, cuyo hamiltoniano es el siguiente\n",
    "    \n",
    "$$H = E \\ket{1}\\bra{1} + \\Omega\\left(\\ket{0}\\bra{1} + \\ket{1}\\bra{0}  \\right).$$\n",
    "\n",
    "Tomamos los parámetros del artículo, además de crear una base de los vectores $\\ket{0}$ y $\\ket{1}$."
   ],
   "id": "d0f0d97715455e37"
  },
  {
   "cell_type": "code",
   "id": "8f60f7ba",
   "metadata": {
    "ExecuteTime": {
     "end_time": "2024-11-17T13:10:14.820707Z",
     "start_time": "2024-11-17T13:10:14.804295Z"
    }
   },
   "source": [
    "N = 2 # Dimensión del espacio de Hilbert\n",
    "\n",
    "psi0 = basis(N,0) # Vector |0>\n",
    "psi1 = basis(N,1) # Vector |1>"
   ],
   "execution_count": 55,
   "outputs": []
  },
  {
   "cell_type": "markdown",
   "id": "f360b669",
   "metadata": {},
   "source": [
    "Definición del hamiltoniano como una función. Esto se hace con \\texttt{lambda}, seguido de los parámetros de los que dependerá. Tras los dos puntos, escribimos la forma de la función que estamos definiendo."
   ]
  },
  {
   "cell_type": "code",
   "id": "fe2bd4b3",
   "metadata": {
    "ExecuteTime": {
     "end_time": "2024-11-17T13:10:15.879072Z",
     "start_time": "2024-11-17T13:10:15.862943Z"
    }
   },
   "source": [
    "Hfun = lambda E, omega: E*psi1*psi1.dag() + omega*(psi0*psi1.dag() + psi1*psi0.dag()) "
   ],
   "execution_count": 56,
   "outputs": []
  },
  {
   "cell_type": "markdown",
   "id": "96496103",
   "metadata": {},
   "source": [
    "El vector inicial será $\\ket{1}$. Hacemos la simulación sin ningún término disipativo. Dichos términos se introducen en \\texttt{c_op_list}, con formato de lista, con la función \\texttt{append}."
   ]
  },
  {
   "cell_type": "code",
   "id": "4ac1ad16",
   "metadata": {
    "ExecuteTime": {
     "end_time": "2024-11-17T13:10:16.943247Z",
     "start_time": "2024-11-17T13:10:16.927072Z"
    }
   },
   "source": [
    "# Definición de los parámetros y evaluación en la función que define al Hamiltoniano\n",
    "omega = 1.0   \n",
    "E = 1.0\n",
    "H = Hfun(E, omega)\n",
    "\n",
    "# Parámetros de la simulación: vector (o matriz densidad) inicial, vector de tiempos y lista de operadores de Lindblad\n",
    "psiini = basis(N,1)   # |1>\n",
    "tlist = np.linspace(0,5,1000) # Vector de tiempos\n",
    "c_op_list = [] # Sin disipacion"
   ],
   "execution_count": 57,
   "outputs": []
  },
  {
   "cell_type": "markdown",
   "id": "90b03235",
   "metadata": {},
   "source": [
    "Para el caso del Monte Carlo Cuántico, tenemos que definir también un número de trayectorias"
   ]
  },
  {
   "cell_type": "code",
   "id": "d36ef489",
   "metadata": {
    "ExecuteTime": {
     "end_time": "2024-11-17T13:10:18.196299Z",
     "start_time": "2024-11-17T13:10:18.185720Z"
    }
   },
   "source": "ntraj = 100",
   "execution_count": 58,
   "outputs": []
  },
  {
   "cell_type": "markdown",
   "id": "e68c5399",
   "metadata": {},
   "source": [
    "Realizamos las evoluciones temporales (https://qutip.org/docs/latest/guide/guide-dynamics.html). Vamos a usar tres funciones distintas:\n",
    "\n",
    "#### sesolve\n",
    "\n",
    "Resuelve la ecuación de Schrödinger para un vector o una matriz unitaria para un hamiltoniano dado. Útil si no hay términos disipativos.\n",
    "\n",
    "#### mesolve\n",
    "\n",
    "Resuelve la ecuación de Lindblad para un vector dado o una matriz densidad. Se pueden de aportar (o no) los operadores de la parte disipativa.\n",
    "\n",
    "#### mcsolve\n",
    "\n",
    "Algoritmo de Monte Carlo Cuántico para un vector de estado, un hamiltoniano dado y unos operadores que marcan la disipación. Si estos no son incluidos, se llama directamente a la función sesolve. Hemos de dar el número de trayectorias.\n"
   ]
  },
  {
   "cell_type": "markdown",
   "id": "78a30dbe",
   "metadata": {},
   "source": [
    "## Caso sin disipación"
   ]
  },
  {
   "cell_type": "markdown",
   "id": "b8d64705",
   "metadata": {},
   "source": [
    "Resolvemos el caso sin disipación para la Ecuación de Lindblad. Vamos a indicar que nos promedie $\\ket{0}\\bra{0}$ y $\\ket{1}\\bra{1}$."
   ]
  },
  {
   "cell_type": "code",
   "id": "9ec20f00",
   "metadata": {
    "ExecuteTime": {
     "end_time": "2024-11-17T13:10:22.316817Z",
     "start_time": "2024-11-17T13:10:22.188438Z"
    }
   },
   "source": [
    "me = mesolve(H, psiini, tlist, c_op_list, [psi0*psi0.dag(),psi1*psi1.dag()])"
   ],
   "execution_count": 59,
   "outputs": []
  },
  {
   "cell_type": "markdown",
   "id": "8e4a4f34",
   "metadata": {},
   "source": [
    "Se crea una clase, \\texttt{me}, donde podemos acceder a distintos parámetros. Si no indicamos nada para promediar, podemos acceder a la evolución del estado."
   ]
  },
  {
   "cell_type": "code",
   "id": "875497cf",
   "metadata": {
    "ExecuteTime": {
     "end_time": "2024-11-17T13:10:23.500123Z",
     "start_time": "2024-11-17T13:10:22.945817Z"
    }
   },
   "source": [
    "me = mesolve(H, psiini, tlist, c_op_list)\n",
    "me.states"
   ],
   "execution_count": 60,
   "outputs": []
  },
  {
   "cell_type": "markdown",
   "id": "215b50e2",
   "metadata": {},
   "source": [
    "Para ver los valores esperados, hacemos lo siguiente:"
   ]
  },
  {
   "cell_type": "code",
   "id": "eccaf070",
   "metadata": {
    "ExecuteTime": {
     "end_time": "2024-11-17T13:10:24.511625Z",
     "start_time": "2024-11-17T13:10:24.360886Z"
    }
   },
   "source": [
    "me = mesolve(H, psiini, tlist, c_op_list, [psi0*psi0.dag(),psi1*psi1.dag()])\n",
    "\n",
    "me.expect[0] # Primer elemento de la lista"
   ],
   "execution_count": 61,
   "outputs": []
  },
  {
   "cell_type": "code",
   "id": "262b2990",
   "metadata": {
    "ExecuteTime": {
     "end_time": "2024-11-17T13:10:25.236157Z",
     "start_time": "2024-11-17T13:10:25.199179Z"
    }
   },
   "source": [
    "me.expect[1] # Segundo elemento de la lista"
   ],
   "execution_count": 62,
   "outputs": []
  },
  {
   "cell_type": "markdown",
   "id": "ac38c674",
   "metadata": {},
   "source": [
    "Hacemos lo propio con Monte Carlo, indicando al final el número de trayectorias."
   ]
  },
  {
   "cell_type": "code",
   "id": "96047594",
   "metadata": {
    "ExecuteTime": {
     "end_time": "2024-11-17T13:10:26.995522Z",
     "start_time": "2024-11-17T13:10:26.882792Z"
    }
   },
   "source": [
    "mc = mcsolve(H, psiini, tlist, c_op_list, [psi0*psi0.dag(),psi1*psi1.dag()], ntraj)"
   ],
   "execution_count": 63,
   "outputs": []
  },
  {
   "cell_type": "markdown",
   "id": "f0294c76",
   "metadata": {},
   "source": [
    "En la representación gráfica señalaremos de color magenta el valor de $\\ket{0}\\bra{0}$ obtenido con QMC (en este caso concreto sesolve); amarillo para $\\ket{1}\\bra{1}$ y finalmente línea negra de puntos para comparar con la ecuación maestra."
   ]
  },
  {
   "cell_type": "code",
   "id": "de88816c",
   "metadata": {
    "scrolled": true,
    "ExecuteTime": {
     "end_time": "2024-11-17T13:10:28.297654Z",
     "start_time": "2024-11-17T13:10:27.843733Z"
    }
   },
   "source": [
    "plt.plot(tlist, mc.expect[0],'m',lw=2)\n",
    "plt.plot(tlist, mc.expect[1],'y',lw=2)\n",
    "plt.plot(tlist, me.expect[0],'k--',lw=1.5)\n",
    "plt.plot(tlist, me.expect[1],'k--',lw=1.5)\n",
    "plt.xlabel('Tiempo',fontsize=14)\n",
    "plt.ylabel('Poblaciones', fontsize=14)\n",
    "plt.legend(('Estado ${0}$','Estado ${1}$', 'ME'))"
   ],
   "execution_count": 64,
   "outputs": []
  },
  {
   "cell_type": "markdown",
   "id": "6f2d8311",
   "metadata": {},
   "source": [
    "## Caso con disipación"
   ]
  },
  {
   "cell_type": "markdown",
   "id": "e0fa01fe",
   "metadata": {},
   "source": [
    "Vamos a introducir la disipación. Para ello, los operadores de Lindblad serán:\n",
    "\n",
    "$$\\sqrt{\\gamma (1+n)} \\sigma^+,$$\n",
    "$$\\sqrt{\\gamma n} \\sigma^-.$$\n"
   ]
  },
  {
   "cell_type": "code",
   "id": "d3c77e16",
   "metadata": {
    "scrolled": true,
    "ExecuteTime": {
     "end_time": "2024-11-08T11:43:32.942540Z",
     "start_time": "2024-11-08T11:43:32.906330Z"
    }
   },
   "source": [
    "# Definición de los parámetros y de los operadores de Lindblad\n",
    "\n",
    "gamma = 0.1\n",
    "avg_n = 1.0\n",
    "\n"
   ],
   "execution_count": 41,
   "outputs": []
  },
  {
   "cell_type": "markdown",
   "id": "10b914b6",
   "metadata": {},
   "source": [
    "Aumentamos el número de trayectorias y el valor del tiempo final."
   ]
  },
  {
   "cell_type": "code",
   "id": "1b48d567",
   "metadata": {
    "ExecuteTime": {
     "end_time": "2024-11-08T11:44:38.616615Z",
     "start_time": "2024-11-08T11:44:38.611827Z"
    }
   },
   "source": [
    "tlist2 = np.linspace(0,10,1000)\n",
    "ntraj2 = 500"
   ],
   "execution_count": 47,
   "outputs": []
  },
  {
   "cell_type": "markdown",
   "id": "015ede78",
   "metadata": {},
   "source": [
    "Definimos los operadores como lista y los añadimos con la función \\texttt{append} para posteriormente introducirlos como tal en la función. "
   ]
  },
  {
   "cell_type": "code",
   "id": "7010877a",
   "metadata": {
    "ExecuteTime": {
     "end_time": "2024-11-08T11:44:38.768738Z",
     "start_time": "2024-11-08T11:44:38.763140Z"
    }
   },
   "source": [
    "c_op_list = []\n",
    "c_op_list.append(np.sqrt(gamma * (1 + avg_n)) * sigmap())\n",
    "c_op_list.append(np.sqrt(gamma * avg_n) * sigmam())"
   ],
   "execution_count": 48,
   "outputs": []
  },
  {
   "cell_type": "markdown",
   "id": "599b69d4",
   "metadata": {},
   "source": [
    "Notemos que podríamos haber hecho lo propio con los operadores que buscamos promediar (se introducen como lista), en este caso introducidos directamente en la función."
   ]
  },
  {
   "cell_type": "code",
   "id": "968bb7f1",
   "metadata": {
    "ExecuteTime": {
     "end_time": "2024-11-08T11:44:40.555347Z",
     "start_time": "2024-11-08T11:44:40.479002Z"
    }
   },
   "source": [
    "me2 = mesolve(H, psiini, tlist2, c_op_list, [psi0*psi0.dag(),psi1*psi1.dag()])"
   ],
   "execution_count": 49,
   "outputs": []
  },
  {
   "cell_type": "code",
   "id": "b47b2fda",
   "metadata": {
    "ExecuteTime": {
     "end_time": "2024-11-08T11:45:02.669098Z",
     "start_time": "2024-11-08T11:44:40.771606Z"
    }
   },
   "source": [
    "mc2 = mcsolve(H, psiini, tlist2, c_op_list, [psi0*psi0.dag(),psi1*psi1.dag()], ntraj2)"
   ],
   "execution_count": 50,
   "outputs": []
  },
  {
   "cell_type": "code",
   "id": "1f1cdb1a",
   "metadata": {
    "scrolled": false,
    "ExecuteTime": {
     "end_time": "2024-11-08T11:45:02.875346Z",
     "start_time": "2024-11-08T11:45:02.671616Z"
    }
   },
   "source": [
    "plt.plot(tlist2, mc2.expect[0],'m',lw=2)\n",
    "plt.plot(tlist2, mc2.expect[1],'y',lw=2)\n",
    "plt.plot(tlist2, me2.expect[0],'k--',lw=1.5)\n",
    "plt.plot(tlist2, me2.expect[1],'k--',lw=1.5)\n",
    "plt.xlabel('Tiempo',fontsize=14)\n",
    "plt.ylabel('Poblaciones', fontsize=14)\n",
    "plt.legend(('Estado ${0}$','Estado ${1}$', 'ME'))"
   ],
   "execution_count": 51,
   "outputs": []
  },
  {
   "cell_type": "markdown",
   "id": "ed51063b",
   "metadata": {},
   "source": [
    "## Caso con disipación y sin segundo término del hamiltoniano $(\\Omega = 0)$. "
   ]
  },
  {
   "cell_type": "markdown",
   "id": "35adda9d",
   "metadata": {},
   "source": [
    "Creamos un nuevo hamiltoniano haciendo nulo el parámetro $\\Omega$ introdicido previamente."
   ]
  },
  {
   "cell_type": "code",
   "execution_count": 20,
   "id": "6310f2ce",
   "metadata": {
    "scrolled": true
   },
   "source": [
    "H3 = Hfun(E, 0)\n",
    "tlist3 = np.linspace(0,20,2000)\n",
    "ntraj3 = 1000"
   ],
   "outputs": []
  },
  {
   "cell_type": "code",
   "execution_count": 21,
   "id": "9bd90320",
   "metadata": {},
   "source": [
    "me3 = mesolve(H3, psiini, tlist3, c_op_list, [psi0*psi0.dag(),psi1*psi1.dag()])"
   ],
   "outputs": []
  },
  {
   "cell_type": "code",
   "execution_count": 22,
   "id": "9ca5b12d",
   "metadata": {},
   "source": [
    "mc3 = mcsolve(H3, psiini, tlist3, c_op_list, [psi0*psi0.dag(),psi1*psi1.dag()], ntraj2)"
   ],
   "outputs": []
  },
  {
   "cell_type": "code",
   "execution_count": 23,
   "id": "439ce686",
   "metadata": {
    "scrolled": true
   },
   "source": [
    "plt.plot(tlist3, mc3.expect[0],'m',lw=2)\n",
    "plt.plot(tlist3, mc3.expect[1],'y',lw=2)\n",
    "plt.plot(tlist3, me3.expect[0],'k--',lw=1.5)\n",
    "plt.plot(tlist3, me3.expect[1],'k--',lw=1.5)\n",
    "plt.xlabel('Tiempo',fontsize=14)\n",
    "plt.ylabel('Poblaciones', fontsize=14)\n",
    "plt.legend(('Estado ${0}$','Estado ${1}$', 'ME'))\n"
   ],
   "outputs": []
  },
  {
   "cell_type": "markdown",
   "id": "01f5397a",
   "metadata": {},
   "source": [
    "Otra opción interesante es cambiar el número de trayectorias. Simplemente, añadimos una lista con las trayectorias que deseemos para la simulación en lugar de un único parámetro."
   ]
  },
  {
   "cell_type": "code",
   "execution_count": 24,
   "id": "3502bf32",
   "metadata": {},
   "source": [
    "ntraj_list = [1, 10, 100, 1000, 5000] # list of number of trajectories to avg. over"
   ],
   "outputs": []
  },
  {
   "cell_type": "code",
   "execution_count": 25,
   "id": "d9b56f05",
   "metadata": {},
   "source": [
    "mc_list = mcsolve(H3, psiini, tlist3, c_op_list, [psi0*psi0.dag(),psi1*psi1.dag()], ntraj_list)"
   ],
   "outputs": []
  },
  {
   "cell_type": "code",
   "execution_count": 26,
   "id": "18486992",
   "metadata": {},
   "source": [
    "fig, axes = plt.subplots(5, 1, sharex=True, figsize=(8,14))\n",
    "\n",
    "\n",
    "for idx, n in enumerate(ntraj_list):\n",
    "\n",
    "    axes[idx].step(tlist3, mc_list.expect[idx][0], 'm', lw=2)\n",
    "    axes[idx].step(tlist3, mc_list.expect[idx][1], 'y', lw=2)\n",
    "    \n",
    "    axes[idx].set_yticks(np.linspace(0, 2, 5))\n",
    "    axes[idx].set_ylim([-0.25, 1.5])\n",
    "    axes[idx].set_ylabel('Poblaciones - %d trajs' % n, fontsize=14)\n",
    "    \n",
    "    axes[idx].legend(('Estado ${0}$','Estado ${1}$'))\n"
   ],
   "outputs": []
  }
 ],
 "metadata": {
  "kernelspec": {
   "display_name": "Python 3",
   "language": "python",
   "name": "python3"
  },
  "language_info": {
   "codemirror_mode": {
    "name": "ipython",
    "version": 3
   },
   "file_extension": ".py",
   "mimetype": "text/x-python",
   "name": "python",
   "nbconvert_exporter": "python",
   "pygments_lexer": "ipython3",
   "version": "3.10.10"
  }
 },
 "nbformat": 4,
 "nbformat_minor": 5
}

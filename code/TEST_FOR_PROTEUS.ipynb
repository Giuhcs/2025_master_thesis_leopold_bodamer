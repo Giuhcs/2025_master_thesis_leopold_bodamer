{
 "cells": [
  {
   "cell_type": "code",
   "id": "initial_id",
   "metadata": {
    "collapsed": true,
    "ExecuteTime": {
     "end_time": "2025-01-22T10:02:57.891410Z",
     "start_time": "2025-01-22T10:02:41.553652Z"
    }
   },
   "source": [
    "import numpy as np\n",
    "import time\n",
    "\n",
    "# Function to run a computationally intensive task (Matrix Multiplication)\n",
    "def compute_intensive_task():\n",
    "    # Create two large random matrices\n",
    "    size = 10000  # You can adjust this size based on available memory and processing power\n",
    "    A = np.random.rand(size, size)\n",
    "    B = np.random.rand(size, size)\n",
    "\n",
    "    # Start the timer\n",
    "    start_time = time.time()\n",
    "\n",
    "    # Perform matrix multiplication\n",
    "    C = np.dot(A, B)\n",
    "\n",
    "    # Stop the timer\n",
    "    end_time = time.time()\n",
    "\n",
    "    # Calculate elapsed time\n",
    "    elapsed_time = end_time - start_time\n",
    "\n",
    "    return elapsed_time\n",
    "\n",
    "# Run the task and measure the time\n",
    "elapsed_time = compute_intensive_task()\n",
    "\n",
    "print(f\"Task completed in: {elapsed_time:.4f} seconds\")"
   ],
   "outputs": [
    {
     "name": "stdout",
     "output_type": "stream",
     "text": [
      "Task completed in: 15.0804 seconds\n"
     ]
    }
   ],
   "execution_count": 3
  }
 ],
 "metadata": {
  "kernelspec": {
   "display_name": "Python 3",
   "language": "python",
   "name": "python3"
  },
  "language_info": {
   "codemirror_mode": {
    "name": "ipython",
    "version": 2
   },
   "file_extension": ".py",
   "mimetype": "text/x-python",
   "name": "python",
   "nbconvert_exporter": "python",
   "pygments_lexer": "ipython2",
   "version": "2.7.6"
  }
 },
 "nbformat": 4,
 "nbformat_minor": 5
}

{
 "cells": [
  {
   "metadata": {},
   "cell_type": "raw",
   "source": "",
   "id": "e248c901767a6a52"
  },
  {
   "metadata": {
    "ExecuteTime": {
     "end_time": "2024-11-19T14:46:11.951565Z",
     "start_time": "2024-11-19T14:46:11.876803Z"
    }
   },
   "cell_type": "code",
   "source": [
    "import matplotlib.pyplot as plt\n",
    "import numpy as np\n",
    "\n",
    "from qutip import * \n",
    "import os\n",
    "\n",
    "# Matplotlib Einstellungen gemäß den LaTeX-Caption-Formatierungen\n",
    "plt.rcParams.update({\n",
    "    'text.usetex': True,              # Enable LaTeX for text rendering\n",
    "    'font.family': 'serif',           # Use a serif font family\n",
    "    'font.serif': 'Palatino',         # Set Palatino as the serif font\n",
    "    'text.latex.preamble': r'\\usepackage{amsmath}',\n",
    "    'font.size': 20,                   # Font size for general text\n",
    "    'axes.titlesize': 20,              # Font size for axis titles\n",
    "    'axes.labelsize': 20,              # Font size for axis labels\n",
    "    'xtick.labelsize': 20,             # Font size for x-axis tick labels\n",
    "    'ytick.labelsize': 20,             # Font size for y-axis tick labels\n",
    "    'legend.fontsize': 20,             # Font size for legends\n",
    "    'figure.figsize': [8, 6],          # Size of the plot (width x height)\n",
    "    'figure.autolayout': True,         # Automatic layout adjustment\n",
    "    'savefig.format': 'svg',           # Default format for saving figures\n",
    "    'figure.facecolor': 'none',        # Make the figure face color transparent\n",
    "    'axes.facecolor': 'none',          # Make the axes face color transparent\n",
    "    'savefig.transparent': True        # Save figures with transparent background\n",
    "})\n",
    "\n",
    "output_dir = r\"C:\\Users\\leopo\\OneDrive - UT Cloud\\Uni\\Semester_9\\Master_thesis\\Figures_From_Python\"\n",
    "os.makedirs(output_dir, exist_ok=True)"
   ],
   "id": "initial_id",
   "execution_count": 58,
   "outputs": []
  },
  {
   "metadata": {},
   "cell_type": "markdown",
   "source": [
    "$$\n",
    "H = E \\left|1\\right\\rangle \\left\\langle 1\\right| + \\Omega\\left(\\left|0\\right\\rangle \\left\\langle 1\\right| + \\left|1\\right\\rangle \\left\\langle 0\\right|\\right)\n",
    "  = \\frac{E}{2} \\sigma_z + \\Omega \\sigma_x\n",
    "  = \\frac{E}{2} \\sigma_z + \\Omega (\\sigma_+ +\\sigma_-)\n",
    "$$\n"
   ],
   "id": "47c77e0aa398a59a"
  },
  {
   "metadata": {
    "ExecuteTime": {
     "end_time": "2024-11-19T14:46:12.047211Z",
     "start_time": "2024-11-19T14:46:12.040159Z"
    }
   },
   "cell_type": "code",
   "source": [
    "N = 2 # Dimensión del espacio de Hilbert\n",
    "\n",
    "psi0 = basis(N,0) # Vector |0>\n",
    "psi1 = basis(N,1) # Vector |1>"
   ],
   "id": "bf22ac2fa0e62a9b",
   "execution_count": 59,
   "outputs": []
  },
  {
   "metadata": {
    "ExecuteTime": {
     "end_time": "2024-11-19T14:46:12.464637Z",
     "start_time": "2024-11-19T14:46:12.455938Z"
    }
   },
   "cell_type": "code",
   "source": "print(psi0, psi1, psi1*psi1.dag())",
   "id": "c87fc9555bfa6ac7",
   "execution_count": 60,
   "outputs": []
  },
  {
   "metadata": {
    "ExecuteTime": {
     "end_time": "2024-11-19T14:46:12.816026Z",
     "start_time": "2024-11-19T14:46:12.810985Z"
    }
   },
   "cell_type": "code",
   "source": [
    "# constant\n",
    "E = 1.0\n",
    "Omega = 1.0"
   ],
   "id": "2b2f6ce3924c2a85",
   "execution_count": 61,
   "outputs": []
  },
  {
   "metadata": {
    "ExecuteTime": {
     "end_time": "2024-11-19T14:46:13.126044Z",
     "start_time": "2024-11-19T14:46:13.119510Z"
    }
   },
   "cell_type": "code",
   "source": [
    "#Hfun = lambda E, Omega: E * psi1*psi1.dag() + Omega * (psi0*psi1.dag() + psi1*psi0.dag())\n",
    "def Hamiltonian(E, Omega):\n",
    "    return (E * psi1*psi1.dag() + Omega * (psi0*psi1.dag() + psi1*psi0.dag()))\n",
    "H = Hamiltonian(E, Omega)"
   ],
   "id": "e61e8f43b0217510",
   "execution_count": 62,
   "outputs": []
  },
  {
   "metadata": {
    "ExecuteTime": {
     "end_time": "2024-11-19T14:46:14.107045Z",
     "start_time": "2024-11-19T14:46:14.099797Z"
    }
   },
   "cell_type": "code",
   "source": [
    "psiini = basis(N,1)   # |1>\n",
    "tlist = np.linspace(0,5,1000) # times"
   ],
   "id": "8092f890aa7954e8",
   "execution_count": 63,
   "outputs": []
  },
  {
   "metadata": {
    "ExecuteTime": {
     "end_time": "2024-11-19T14:46:14.576136Z",
     "start_time": "2024-11-19T14:46:14.570393Z"
    }
   },
   "cell_type": "code",
   "source": [
    "# 1. plot w.o. dissipation\n",
    "expect_list = [psi0*psi0.dag(),psi1*psi1.dag()]\n",
    "c_op_list = []"
   ],
   "id": "9063f89340444b51",
   "execution_count": 64,
   "outputs": []
  },
  {
   "metadata": {
    "ExecuteTime": {
     "end_time": "2024-11-19T14:46:15.046750Z",
     "start_time": "2024-11-19T14:46:14.990588Z"
    }
   },
   "cell_type": "code",
   "source": "me = mesolve(H, psiini, tlist, c_op_list, expect_list)",
   "id": "5df5f2fcf0f90af5",
   "execution_count": 65,
   "outputs": []
  },
  {
   "metadata": {
    "ExecuteTime": {
     "end_time": "2024-11-19T14:46:16.088757Z",
     "start_time": "2024-11-19T14:46:15.362264Z"
    }
   },
   "cell_type": "code",
   "source": [
    "plt.plot(tlist, me.expect[0])#, label=r'state ${0}$')\n",
    "plt.plot(tlist, me.expect[1])#, label=r'state ${1}$')\n",
    "plt.xlabel(r'$t$')#  / \\gamma\n",
    "plt.ylabel(r'Population')\n",
    "plt.legend(('state ${0}$','state ${1}$'))\n",
    "figure_name = f\"2_lvl_sys_without_decay_psiini=e_E={E:.2f}_Omega={Omega:.2f}.svg\"\n",
    "plt.savefig(os.path.join(output_dir, figure_name))\n",
    "plt.show()"
   ],
   "id": "203aff9aed795d47",
   "execution_count": 66,
   "outputs": []
  },
  {
   "metadata": {},
   "cell_type": "markdown",
   "source": [
    "# Now with decay \n",
    "$$\n",
    "c = \\sqrt{\\gamma} \\sigma_-\n",
    "$$\n"
   ],
   "id": "64eed390297e7128"
  },
  {
   "metadata": {
    "ExecuteTime": {
     "end_time": "2024-11-19T14:46:59.130004Z",
     "start_time": "2024-11-19T14:46:59.124169Z"
    }
   },
   "cell_type": "code",
   "source": [
    "# constant\n",
    "E = 1.\n",
    "Gamma = .1\n",
    "Omega = .0\n",
    "n = 1."
   ],
   "id": "9d25250ef1821b02",
   "execution_count": 86,
   "outputs": []
  },
  {
   "metadata": {
    "ExecuteTime": {
     "end_time": "2024-11-19T14:46:59.357219Z",
     "start_time": "2024-11-19T14:46:59.349886Z"
    }
   },
   "cell_type": "code",
   "source": [
    "# 1. plot w.o. dissipation\n",
    "tlist = np.linspace(0,15,4000) # times\n",
    "expect_list = [psi0*psi0.dag(),psi1*psi1.dag()]\n",
    "c_op_list = [np.sqrt(Gamma * (1 + n)) * sigmap(), np.sqrt(Gamma * (n)) * sigmam()]"
   ],
   "id": "667dfd2529e59706",
   "execution_count": 87,
   "outputs": []
  },
  {
   "metadata": {
    "ExecuteTime": {
     "end_time": "2024-11-19T14:47:00.053443Z",
     "start_time": "2024-11-19T14:46:59.875753Z"
    }
   },
   "cell_type": "code",
   "source": [
    "H = Hamiltonian(E, Omega)\n",
    "me = mesolve(H, psiini, tlist, c_op_list, expect_list)"
   ],
   "id": "25ac320b4533665c",
   "execution_count": 88,
   "outputs": []
  },
  {
   "metadata": {
    "ExecuteTime": {
     "end_time": "2024-11-19T14:47:00.528645Z",
     "start_time": "2024-11-19T14:47:00.243932Z"
    }
   },
   "cell_type": "code",
   "source": [
    "plt.plot(tlist, me.expect[0])#, label=r'state ${0}$')\n",
    "plt.plot(tlist, me.expect[1])#, label=r'state ${1}$')\n",
    "plt.xlabel(r'$t$')\n",
    "plt.ylabel(r'Population')\n",
    "plt.legend(('state ${0}$','state ${1}$'))\n",
    "figure_name = f\"2_lvl_sys_with_decay_psiini=e_E={E:.2f}_Omega={Omega:.2f}_Gamma={Gamma:.2f}_n={n:.2f}.svg\"\n",
    "#plt.savefig(os.path.join(output_dir, figure_name))\n",
    "plt.show()"
   ],
   "id": "449a2786997d2e4b",
   "execution_count": 89,
   "outputs": []
  }
 ],
 "metadata": {
  "kernelspec": {
   "display_name": "Python 3",
   "language": "python",
   "name": "python3"
  },
  "language_info": {
   "codemirror_mode": {
    "name": "ipython",
    "version": 2
   },
   "file_extension": ".py",
   "mimetype": "text/x-python",
   "name": "python",
   "nbconvert_exporter": "python",
   "pygments_lexer": "ipython2",
   "version": "2.7.6"
  }
 },
 "nbformat": 4,
 "nbformat_minor": 5
}

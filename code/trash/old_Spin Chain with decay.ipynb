{
 "cells": [
  {
   "cell_type": "code",
   "id": "initial_id",
   "metadata": {
    "collapsed": true,
    "ExecuteTime": {
     "end_time": "2024-11-19T13:41:39.997644Z",
     "start_time": "2024-11-19T13:41:37.245230Z"
    }
   },
   "source": [
    "import matplotlib.pyplot as plt\n",
    "import numpy as np\n",
    "\n",
    "from qutip import * \n",
    "import os\n",
    "\n",
    "# Matplotlib Einstellungen gemäß den LaTeX-Caption-Formatierungen\n",
    "plt.rcParams.update({\n",
    "    'text.usetex': True,              # Enable LaTeX for text rendering\n",
    "    'font.family': 'serif',           # Use a serif font family\n",
    "    'font.serif': 'Palatino',         # Set Palatino as the serif font\n",
    "    'text.latex.preamble': r'\\usepackage{amsmath}',\n",
    "    'font.size': 20,                   # Font size for general text\n",
    "    'axes.titlesize': 20,              # Font size for axis titles\n",
    "    'axes.labelsize': 20,              # Font size for axis labels\n",
    "    'xtick.labelsize': 20,             # Font size for x-axis tick labels\n",
    "    'ytick.labelsize': 20,             # Font size for y-axis tick labels\n",
    "    'legend.fontsize': 20,             # Font size for legends\n",
    "    'figure.figsize': [8, 6],          # Size of the plot (width x height)\n",
    "    'figure.autolayout': True,         # Automatic layout adjustment\n",
    "    'savefig.format': 'svg',           # Default format for saving figures\n",
    "    'figure.facecolor': 'none',        # Make the figure face color transparent\n",
    "    'axes.facecolor': 'none',          # Make the axes face color transparent\n",
    "    'savefig.transparent': True        # Save figures with transparent background\n",
    "})\n",
    "\n",
    "output_dir = r\"C:\\Users\\leopo\\OneDrive - UT Cloud\\Uni\\Semester_9\\Master_thesis\\Figures_From_Python\"\n",
    "os.makedirs(output_dir, exist_ok=True)"
   ],
   "execution_count": 2,
   "outputs": []
  },
  {
   "metadata": {
    "ExecuteTime": {
     "end_time": "2024-11-19T13:41:40.003847Z",
     "start_time": "2024-11-19T13:41:39.999661Z"
    }
   },
   "cell_type": "code",
   "source": [
    "# base 2 lvl atom\n",
    "psi0 = basis(2,0) # Vector |0>\n",
    "psi1 = basis(2,1) # Vector |1>"
   ],
   "id": "8060a109c43e5376",
   "execution_count": 3,
   "outputs": []
  },
  {
   "metadata": {
    "ExecuteTime": {
     "end_time": "2024-11-19T13:41:40.011790Z",
     "start_time": "2024-11-19T13:41:40.005875Z"
    }
   },
   "cell_type": "code",
   "source": [
    "# Set the system parameters\n",
    "N       = 1      # number of atoms\n",
    "n_chains = 1     # number of chains\n",
    "omega_0 = 1.     # Energy splitting of every atom\n",
    "omega   = 1.     # driving\n",
    "\n",
    "J_x, J_y, J_z = 0., 0., 0.  # Coupling between components of (neighboring) spins in all dimensions\n",
    "# with periodic boundary\n",
    "J_flipflop = 1.  # Flip-flop interaction of (neighboring) spins\n",
    "\n",
    "# initial state\n",
    "state_list = [psi1] + [psi0] * (N - 1)\n",
    "psiini = tensor(state_list) # Vector |100...>"
   ],
   "id": "76bb23c3f08969f5",
   "execution_count": 4,
   "outputs": []
  },
  {
   "metadata": {
    "ExecuteTime": {
     "end_time": "2024-11-19T13:41:40.518456Z",
     "start_time": "2024-11-19T13:41:40.507430Z"
    }
   },
   "cell_type": "code",
   "source": [
    "# Setup N-Qubit operators\n",
    "sx_list, sy_list, sz_list, sm_list, sp_list = [], [], [], [], []\n",
    "for i in range(N):\n",
    "    op_list = [qeye(2)] * N\n",
    "    op_list[i] = sigmax()\n",
    "    sx_list.append(tensor(op_list))\n",
    "    op_list[i] = sigmay()\n",
    "    sy_list.append(tensor(op_list))\n",
    "    op_list[i] = sigmaz()\n",
    "    sz_list.append(tensor(op_list))\n",
    "    op_list[i] = sigmam()\n",
    "    sm_list.append(tensor(op_list))\n",
    "    op_list[i] = sigmap()\n",
    "    sp_list.append(tensor(op_list))"
   ],
   "id": "6595ef766741d55a",
   "execution_count": 5,
   "outputs": []
  },
  {
   "metadata": {
    "ExecuteTime": {
     "end_time": "2024-11-19T13:41:40.927644Z",
     "start_time": "2024-11-19T13:41:40.914737Z"
    }
   },
   "cell_type": "code",
   "source": [
    "# Interaction coefficients (2D)\n",
    "Jx, Jy, Jz = np.zeros((N, N)), np.zeros((N, N)), np.zeros((N, N))\n",
    "\n",
    "''' # Simple chain \n",
    "# Set flip-flop interaction terms (nearest neighbors with periodic boundary)\n",
    "for i in range(N):\n",
    "    Jff[i, (i + 1) % N] = J_flipflop  # Interaction with the next spin\n",
    "    Jff[(i + 1) % N, i] = J_flipflop  # Interaction with the previous spin (symmetric)   \n",
    "    Jx[i, (i + 1) % N] = J_x  \n",
    "    Jx[(i + 1) % N, i] = J_x\n",
    "    Jy[i, (i + 1) % N] = J_y\n",
    "    Jy[(i + 1) % N, i] = J_y\n",
    "    Jz[i, (i + 1) % N] = J_z  \n",
    "    Jz[(i + 1) % N, i] = J_z\n",
    "'''\n",
    "\n",
    "# Cylindrical arrangement of n_chains or length n\n",
    "n = N // n_chains\n",
    "\n",
    "def Jff_cylindrical(N, n_chains, J_flipflop=1.0, inter_chain_strength=1.0):\n",
    "    # Number of atoms per chain\n",
    "    n = N // n_chains\n",
    "    if N % n_chains != 0:\n",
    "        raise ValueError(\"N must be divisible by n_chains.\")\n",
    "\n",
    "    # Initialize the Jff interaction matrix\n",
    "    Jff = np.zeros((N, N))\n",
    "\n",
    "    # Intra-chain interactions (block diagonal)\n",
    "    for chain in range(n_chains):\n",
    "        for i in range(n):\n",
    "            # Map local indices to global indices\n",
    "            global_i = chain * n + i\n",
    "            global_j = chain * n + (i + 1) % n  # Periodic within the chain\n",
    "\n",
    "            # Add flip-flop interaction within the chain\n",
    "            Jff[global_i, global_j] = J_flipflop\n",
    "            Jff[global_j, global_i] = J_flipflop\n",
    "\n",
    "    # Inter-chain interactions (nearest-neighbor chains with periodic boundary)\n",
    "    for chain in range(n_chains):\n",
    "        for i in range(n):\n",
    "            # Map local indices to global indices for two adjacent chains\n",
    "            global_i_chain1 = chain * n + i\n",
    "            global_i_chain2 = ((chain + 1) % n_chains) * n + i  # Modulo n_chains for periodic boundary\n",
    "\n",
    "            # Add identity-like connections between the chains\n",
    "            Jff[global_i_chain1, global_i_chain2] = inter_chain_strength\n",
    "            Jff[global_i_chain2, global_i_chain1] = inter_chain_strength\n",
    "\n",
    "    return Jff\n"
   ],
   "id": "29e8791bfca9bfb3",
   "execution_count": 6,
   "outputs": []
  },
  {
   "metadata": {},
   "cell_type": "markdown",
   "source": [
    "$$$\\displaystyle H = \\sum_{n=1}^N \\left[ \\frac{\\omega_0}{2} \\sigma_z^{(n)} + \\omega \\sigma_x^{(n)} \\right] \n",
    "- \\frac{1}{2} \\sum_n^{N-1} [ J_x^{(n)} \\sigma_x^{(n)} \\sigma_x^{(n+1)} + J_y^{(n)} \\sigma_y^{(n)} \\sigma_y^{(n+1)} + J_z^{(n)} \\sigma_z^{(n)} \\sigma_z^{(n+1)}]\n",
    "-\\sum_{n=1}^N J_{ff}^{(n)} \\sigma_+^{(n)} \\sigma_-^{(n+1 \\mod N)}.\n",
    "$$"
   ],
   "id": "b45d77e39b168674"
  },
  {
   "metadata": {},
   "cell_type": "markdown",
   "source": [
    "$$\n",
    "\\displaystyle H = \\sum_{n=1}^N \\left[ \\frac{\\omega_0}{2} \\sigma_z^{(n)} + \\omega \\sigma_x^{(n)} \\right] \n",
    "- J_{ff} \\sum_{n=1}^N \\sigma_+^{(n)} \\sigma_-^{(n+1 \\mod N)}.\n",
    "$$"
   ],
   "id": "fbde5d7951a8a53b"
  },
  {
   "metadata": {
    "ExecuteTime": {
     "end_time": "2024-11-19T13:41:43.464012Z",
     "start_time": "2024-11-19T13:41:43.457433Z"
    }
   },
   "cell_type": "code",
   "source": [
    "# define the Hamiltonian\n",
    "def hamiltonian(omega, omega0, N):\n",
    "    H = 0\n",
    "\n",
    "    # Add energy splitting terms (diagonal in h)\n",
    "    for i in range(N):\n",
    "        H -= 0.5 * omega_0 * sz_list[i] + omega * sx_list[i]\n",
    "\n",
    "    # Add interaction terms for Jx, Jy, Jz\n",
    "    for i in range(N):\n",
    "        for j in range(N):\n",
    "            H -= 0.5 * Jx[i, j] * sx_list[i] * sx_list[j]\n",
    "            H -= 0.5 * Jy[i, j] * sy_list[i] * sy_list[j]\n",
    "            H -= 0.5 * Jz[i, j] * sz_list[i] * sz_list[j]\n",
    "            H -= Jff[i, j] * (sp_list[i] * sm_list[j] + sm_list[i] * sp_list[j])     # Add flip-flop interaction terms\n",
    "    \n",
    "    return H\n",
    "\n",
    "H = hamiltonian()"
   ],
   "id": "a7c8e781087fc128",
   "execution_count": 7,
   "outputs": []
  },
  {
   "metadata": {
    "ExecuteTime": {
     "end_time": "2024-11-19T13:41:44.160940Z",
     "start_time": "2024-11-19T13:41:44.152756Z"
    }
   },
   "cell_type": "code",
   "source": [
    "nbar = 1.0 # average photon (excitation) number\n",
    "\n",
    "# collective decay and dephasing\n",
    "gamma_dephase_collective = 0.1\n",
    "gamma_decay_collective = 0.1 * nbar\n",
    "\n",
    "# Define the collective decay collapse operator\n",
    "c_ops_decay   = [np.sqrt(gamma_decay_collective)   * sum(sp_list[i] for i in range(N))] # Define the collective lowering operator (sigmam) as a sum over all spins\n",
    "c_ops_dephase = [np.sqrt(gamma_dephase_collective) * sum(sz_list[i] for i in range(N))]\n",
    "\n",
    "'''\n",
    "gamma_decay = 0.1 * np.ones(N)  # Example decay rate for each spin\n",
    "# Collapse operators for unique decay and dephasing\n",
    "c_ops_decay = [np.sqrt(gamma_decay[i] * nbar) * 0.5 * (sx_list[i] - 1j * sy_list[i]) for i in range(N)] # this is sigmam()\n",
    "gamma_dephase = 0.1 * np.ones(N)\n",
    "c_ops_dephase = [np.sqrt(gamma_dephase[i]) * sz_list[i] for i in range(N)]\n",
    "\n",
    "'''\n",
    "\n",
    "# Combine dephasing and decay\n",
    "c_ops = c_ops_decay + c_ops_dephase "
   ],
   "id": "53c7a1c8f435d7a5",
   "execution_count": 8,
   "outputs": []
  },
  {
   "metadata": {
    "ExecuteTime": {
     "end_time": "2024-11-19T13:41:46.674663Z",
     "start_time": "2024-11-19T13:41:44.682224Z"
    }
   },
   "cell_type": "code",
   "source": [
    "times = np.linspace(0, 30, 1000) # list of times\n",
    "# evolution\n",
    "result = mesolve(H, psiini, times, c_ops, sz_list, options={\"store_states\": True})\n",
    "# Plot the expecation value\n",
    "for i in range(N):\n",
    "    plt.plot(times, result.expect[i], label=fr\"${i}$\", linestyle='-')  # Solid line\n",
    "\n",
    "plt.legend(title=\"$i$\")\n",
    "plt.xlabel(\"Time\"), plt.ylabel(r\"$\\langle \\sigma_z^{{{i}}} \\rangle$\")\n",
    "plt.title(\"Dynamics of spin chain with qubit dephasing\");\n",
    "plt.show()"
   ],
   "id": "73eee6a24ab7294f",
   "execution_count": 9,
   "outputs": []
  },
  {
   "metadata": {
    "ExecuteTime": {
     "end_time": "2024-11-19T13:41:47.234822Z",
     "start_time": "2024-11-19T13:41:46.676689Z"
    }
   },
   "cell_type": "code",
   "source": [
    "# Projection operators for each spin onto the upper state |1>\n",
    "projector_upper = [tensor([psi1 * psi1.dag() if i == j else qeye(2) for j in range(N)]) for i in range(N)]\n",
    "excitation_operator = sum(sm_list[i] * sp_list[i] for i in range(N)) / 1  # \\sum_i sigma_-^i * sigma_+^i\n",
    "\n",
    "# evolution\n",
    "result = mesolve(H, psiini, times, c_ops, projector_upper + [excitation_operator])\n",
    "# Plot the population of the upper state for each spin\n",
    "for i in range(N):\n",
    "    plt.plot(times, result.expect[i], label=fr\"${i}$\", linestyle='-')  # Solid line\n",
    "plt.plot(times, result.expect[N],label=r\"$\\langle n \\rangle$\", linestyle='--')\n",
    "\n",
    "plt.legend(title=\"$i$\")\n",
    "plt.xlabel(\"Time\")\n",
    "plt.ylabel(r\"Population P($|1\\rangle_i$)\")\n",
    "plt.title(\"Dynamics of spin chain with qubit dephasing and decay\")\n",
    "plt.show()"
   ],
   "id": "429e4cca1485cc70",
   "execution_count": 10,
   "outputs": []
  },
  {
   "metadata": {},
   "cell_type": "code",
   "execution_count": null,
   "source": "",
   "id": "336155a123b96dd6",
   "outputs": []
  }
 ],
 "metadata": {
  "kernelspec": {
   "display_name": "Python 3",
   "language": "python",
   "name": "python3"
  },
  "language_info": {
   "codemirror_mode": {
    "name": "ipython",
    "version": 2
   },
   "file_extension": ".py",
   "mimetype": "text/x-python",
   "name": "python",
   "nbconvert_exporter": "python",
   "pygments_lexer": "ipython2",
   "version": "2.7.6"
  }
 },
 "nbformat": 4,
 "nbformat_minor": 5
}

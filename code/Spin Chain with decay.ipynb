{
 "cells": [
  {
   "cell_type": "code",
   "id": "initial_id",
   "metadata": {
    "collapsed": true,
    "ExecuteTime": {
     "end_time": "2024-12-05T09:33:17.753554Z",
     "start_time": "2024-12-05T09:33:17.746376Z"
    }
   },
   "source": [
    "import matplotlib.pyplot as plt\n",
    "import numpy as np\n",
    "\n",
    "from qutip import * \n",
    "import os\n",
    "\n",
    "# Matplotlib Einstellungen gemäß den LaTeX-Caption-Formatierungen\n",
    "plt.rcParams.update({\n",
    "    'text.usetex': True,              # Enable LaTeX for text rendering\n",
    "    'font.family': 'serif',           # Use a serif font family\n",
    "    'font.serif': 'Palatino',         # Set Palatino as the serif font\n",
    "    'text.latex.preamble': r'\\usepackage{amsmath}',\n",
    "    'font.size': 20,                   # Font size for general text\n",
    "    'axes.titlesize': 20,              # Font size for axis titles\n",
    "    'axes.labelsize': 20,              # Font size for axis labels\n",
    "    'xtick.labelsize': 20,             # Font size for x-axis tick labels\n",
    "    'ytick.labelsize': 20,             # Font size for y-axis tick labels\n",
    "    'legend.fontsize': 20,             # Font size for legends\n",
    "    'figure.figsize': [8, 6],          # Size of the plot (width x height)\n",
    "    'figure.autolayout': True,         # Automatic layout adjustment\n",
    "    'savefig.format': 'svg',           # Default format for saving figures\n",
    "    'figure.facecolor': 'none',        # Make the figure face color transparent\n",
    "    'axes.facecolor': 'none',          # Make the axes face color transparent\n",
    "    'savefig.transparent': True        # Save figures with transparent background\n",
    "})\n",
    "\n",
    "output_dir = r\"C:\\Users\\leopo\\OneDrive - UT Cloud\\Uni\\Semester_9\\Master_thesis\\Figures_From_Python\"\n",
    "os.makedirs(output_dir, exist_ok=True)\n",
    "\n",
    "# allows for interactive plots\n",
    "#%matplotlib notebook "
   ],
   "execution_count": 34,
   "outputs": []
  },
  {
   "metadata": {},
   "cell_type": "markdown",
   "source": [
    "$$\n",
    "\\displaystyle H = \\hbar \\sum_{i=1}^{N_{\\text{atoms}}} \\omega_0 \\sigma_+^{(i)} \\sigma_-^{(i)}\n",
    "- \\hbar \\sum_{i,j=1}^{N_\\text{{atoms}}} J_{i j} \\sigma_+^{(i)} \\sigma_-^{(j)}.\n",
    "$$\n",
    "$$\n",
    "\\displaystyle J_{i j} = \\frac{\\alpha}{|r_i-r_j|}.\n",
    "$$"
   ],
   "id": "fbde5d7951a8a53b"
  },
  {
   "metadata": {
    "ExecuteTime": {
     "end_time": "2024-12-05T14:57:10.937874Z",
     "start_time": "2024-12-05T14:57:10.932044Z"
    }
   },
   "cell_type": "code",
   "source": [
    "# base 2 lvl atom\n",
    "psi0 = basis(2,0) # Vector |0>\n",
    "psi1 = basis(2,1) # Vector |1>"
   ],
   "id": "8060a109c43e5376",
   "execution_count": 219,
   "outputs": []
  },
  {
   "metadata": {
    "ExecuteTime": {
     "end_time": "2024-12-05T15:37:05.737602Z",
     "start_time": "2024-12-05T15:37:05.730651Z"
    }
   },
   "cell_type": "code",
   "source": [
    "# Set the system parameters\n",
    "n_rings = 2\n",
    "n_chains = 2 # number of chains\n",
    "N_atoms = n_chains * n_rings  # number of atoms\n",
    "\n",
    "fixed_lam = 1.                # energysplitting, when ground state is set to 0\n",
    "omega_0 = 2 * np.pi / fixed_lam # actually k_a\n",
    "\n",
    "distance = 1 * fixed_lam\n",
    "\n",
    "# decay and dephasing\n",
    "gamma_0 = .1   # decay rate\n",
    "gamma_phi = .1 # dephasing rate\n",
    "\n",
    "alpha = 1 # coupling strength of the dipoles       Fine structure const?\n",
    "\n",
    "# evolution\n",
    "t_max = 30"
   ],
   "id": "76bb23c3f08969f5",
   "execution_count": 231,
   "outputs": []
  },
  {
   "metadata": {
    "ExecuteTime": {
     "end_time": "2024-12-05T15:37:06.034132Z",
     "start_time": "2024-12-05T15:37:06.026018Z"
    }
   },
   "cell_type": "code",
   "source": [
    "# Setup N_atoms-Qubit operators\n",
    "sx_list, sy_list, sz_list, sm_list, sp_list = [], [], [], [], []\n",
    "for i in range(N_atoms):\n",
    "    op_list = [qeye(2)] * N_atoms\n",
    "    op_list[i] = sigmax()\n",
    "    sx_list.append(tensor(op_list))\n",
    "    op_list[i] = sigmay()\n",
    "    sy_list.append(tensor(op_list))\n",
    "    op_list[i] = sigmaz()\n",
    "    sz_list.append(tensor(op_list))\n",
    "    op_list[i] = sigmam()\n",
    "    sm_list.append(tensor(op_list))\n",
    "    op_list[i] = sigmap()\n",
    "    sp_list.append(tensor(op_list))"
   ],
   "id": "6595ef766741d55a",
   "execution_count": 232,
   "outputs": []
  },
  {
   "metadata": {
    "ExecuteTime": {
     "end_time": "2024-12-05T15:37:06.727840Z",
     "start_time": "2024-12-05T15:37:06.524280Z"
    }
   },
   "cell_type": "code",
   "source": [
    "########################################               define the geometry                 #############################################\n",
    "def chain_positions(distance, N_atoms):\n",
    "    Pos = np.zeros((N_atoms, 3))\n",
    "    for i in range(N_atoms):\n",
    "        Pos[i, 2] = i * distance\n",
    "    return Pos\n",
    "\n",
    "def z_rotation(angle):\n",
    "    return np.array([\n",
    "        [np.cos(angle), -np.sin(angle), 0],\n",
    "        [np.sin(angle),  np.cos(angle), 0],\n",
    "        [0,              0,            1]])\n",
    "\n",
    "def ring_positions(distance, n_chains):\n",
    "    Pos = np.zeros((n_chains, 3))\n",
    "    dphi = 2 * np.pi / n_chains\n",
    "    if n_chains == 1:\n",
    "        radius = 0\n",
    "    else:\n",
    "        radius = distance / 2 / np.sin(np.pi / n_chains)\n",
    "    helper = np.array([radius, 0, 0])\n",
    "    for i in range(n_chains):\n",
    "        rotation_matrix = z_rotation(dphi * i)\n",
    "        Pos[i] = np.matmul(rotation_matrix, helper)\n",
    "    return Pos\n",
    "\n",
    "def cyl_positions(distance, N_atoms, n_chains):\n",
    "    Pos = np.zeros((N_atoms, 3))\n",
    "    Pos_chain = chain_positions(distance, N_atoms // n_chains)\n",
    "    Pos_ring = ring_positions(distance, n_chains)\n",
    "    for i in range(n_chains):\n",
    "        Pos[i * (N_atoms // n_chains): (i + 1) * (N_atoms // n_chains)] = Pos_chain + Pos_ring[i]\n",
    "    return Pos\n",
    "\n",
    "Pos = cyl_positions(distance, N_atoms, n_chains)\n",
    "\n",
    "# Plotting \n",
    "fig = plt.figure(figsize=(8, 6)) \n",
    "ax = fig.add_subplot(111, projection='3d') \n",
    "# Plot the positions \n",
    "ax.scatter(Pos[:, 0], Pos[:, 1], Pos[:, 2], c='b', marker='o') \n",
    "ax.set_xlabel('X') \n",
    "ax.set_ylabel('Y') \n",
    "ax.set_zlabel('Z') \n",
    "ax.set_title('Positions and Dipoles')\n",
    "ax.axis('equal')\n",
    "plt.show()"
   ],
   "id": "29e8791bfca9bfb3",
   "execution_count": 233,
   "outputs": []
  },
  {
   "metadata": {
    "ExecuteTime": {
     "end_time": "2024-12-05T15:37:26.502097Z",
     "start_time": "2024-12-05T15:37:26.492948Z"
    }
   },
   "cell_type": "code",
   "source": [
    "# initial state\n",
    "state_list = [psi0] * N_atoms\n",
    "state_list[0] = psi1\n",
    "#psiini = tensor(state_list) # Vector |100...>\n",
    "\n",
    "'''k = np.pi / 4  # a single wavevector value\n",
    "\n",
    "# Define the superposition state excited by a single mode with wavevector k\n",
    "for i in range(2):  # Modify specific entries in the list\n",
    "    # Replace a specific state in the list with psi1\n",
    "    state_list[i] += np.exp(1j * k * np.linalg.norm(Pos[i])) * psi1\n",
    "\n",
    "# Normalize the state'''\n",
    "psiini = tensor(state_list).unit()\n",
    "psiini"
   ],
   "id": "a2cbacf40838d2d5",
   "execution_count": 234,
   "outputs": []
  },
  {
   "metadata": {
    "ExecuteTime": {
     "end_time": "2024-12-05T15:37:28.149134Z",
     "start_time": "2024-12-05T15:37:28.134276Z"
    }
   },
   "cell_type": "code",
   "source": [
    "def Hamilton(distance, n_rings, n_chains):\n",
    "    N_atoms = n_chains * n_rings\n",
    "    Pos = cyl_positions(distance, N_atoms, n_chains)\n",
    "    H = 0\n",
    "    for a in range(N_atoms):\n",
    "        for b in range(N_atoms):\n",
    "            base = (sp_list[a] * sm_list[b])\n",
    "            if a != b:\n",
    "                ra, rb = Pos[a, :], Pos[b, :]\n",
    "                H += alpha / (np.linalg.norm(rb-ra))* base\n",
    "            else:\n",
    "                H +=  omega_0 * base # Diagonals except for |0><0|\n",
    "\n",
    "    return H\n",
    "    \n",
    "H = Hamilton(distance, n_rings, n_chains)\n",
    "\n",
    "H"
   ],
   "id": "a7c8e781087fc128",
   "execution_count": 235,
   "outputs": []
  },
  {
   "metadata": {},
   "cell_type": "markdown",
   "source": [
    "## Single case\n",
    "\n",
    "$$\n",
    "C_{\\text{decay}}^{(i)} = \\sqrt{\\gamma_0} \\sigma_-^{(i)} \\quad\n",
    "C_{\\text{dephase}}^{(i)} = \\sqrt{\\gamma_\\phi} \\sigma_z^{(i)}\n",
    "$$\n",
    "\n",
    "## Collective case\n",
    "$$\n",
    "C_{\\text{decay}} = \\sum_{n=1}^{N_{\\text{atoms}}} C_{\\text{decay}}^{(i)} \\quad\n",
    "C_{\\text{dephase}} = \\sum_{n=1}^{\\text{N_atoms}} C_{\\text{dephase}}^{(i)}\n",
    "$$"
   ],
   "id": "86e714f2e79d425b"
  },
  {
   "metadata": {
    "ExecuteTime": {
     "end_time": "2024-12-05T15:37:28.963625Z",
     "start_time": "2024-12-05T15:37:28.956377Z"
    }
   },
   "cell_type": "code",
   "source": [
    "# Jump / Expect Operators\n",
    "\n",
    "'''gamma_decay_collective = 0.1\n",
    "gamma_dephase_collective = 0.1\n",
    "c_op2   = [np.sqrt(gamma_decay_collective) * sum(sm_list[i] for i in range(N_atoms))] # Define the collective lowering operator (sigmam) as a sum over all spins                 c_op4 = [np.sqrt(gamma_dephase_collective) * sum(sz_list[i] for i in range(N_atoms))]'''\n",
    "\n",
    "# Define the decay collapse and dephasing operator for each spin\n",
    "c_op2 = [np.sqrt(gamma_0) * sm for sm in sm_list]                                   # EVERY ATOM  #DECAYS on its own\n",
    "c_op4 = [np.sqrt(gamma_phi) * commutator(sm.dag(), sm) for sm in sm_list]           # EVEY ATOM DEPHASES \"\"\n",
    "\n",
    "c_op_list = c_op2 + c_op4\n",
    "\n",
    "e_op_list = [tensor([psi1 * psi1.dag() if i == j else psi0 * psi0.dag() for j in range(N_atoms)]) for i in range(N_atoms)]"
   ],
   "id": "53c7a1c8f435d7a5",
   "execution_count": 236,
   "outputs": []
  },
  {
   "metadata": {
    "ExecuteTime": {
     "end_time": "2024-12-05T15:37:32.729727Z",
     "start_time": "2024-12-05T15:37:29.552973Z"
    }
   },
   "cell_type": "code",
   "source": [
    "# evolution\n",
    "times = np.linspace(0, t_max, t_max * 1000) # list of times\n",
    "\n",
    "result = mesolve(H, psiini, times, c_ops = c_op_list, e_ops = e_op_list) #, options={\"store_states\": True}\n",
    "\n",
    "print(result)\n",
    "# Plot the expectation values\n",
    "plt.figure()\n",
    "for i in range(0, N_atoms):\n",
    "    label = str(i+1) if i < 5 else None\n",
    "    plt.plot(times, result.expect[i], label=label)\n",
    "plt.xlabel(\"Time\")\n",
    "plt.ylabel(\"Population\")\n",
    "Psur = sum(result.expect[i] for i in range(N_atoms))\n",
    "plt.plot(times, np.ones_like(times) - Psur, label=\"g\")\n",
    "#plt.plot(times, result.expect[0], label=\"g\")\n",
    "plt.plot(times, Psur, label= r\"$P_{\\text{sur}}$\")\n",
    "plt.legend(title=\"$|i>$\")\n",
    "\n",
    "plt.title(\"Evolution of Populations\")\n",
    "plt.show()"
   ],
   "id": "73eee6a24ab7294f",
   "execution_count": 237,
   "outputs": []
  },
  {
   "metadata": {
    "ExecuteTime": {
     "end_time": "2024-12-05T15:37:32.737059Z",
     "start_time": "2024-12-05T15:37:32.732742Z"
    }
   },
   "cell_type": "code",
   "source": "",
   "id": "ccfb5da9658537d5",
   "execution_count": 237,
   "outputs": []
  },
  {
   "metadata": {
    "ExecuteTime": {
     "end_time": "2024-12-05T15:37:32.949931Z",
     "start_time": "2024-12-05T15:37:32.739379Z"
    }
   },
   "cell_type": "code",
   "source": [
    "# CHATGPT version of N qubits -> spectroscopy\n",
    "\n",
    "N = 2  # Number of qubits\n",
    "omega_0 = 1.0  # Qubit frequency\n",
    "g = 0.1  # Coupling strength\n",
    "\n",
    "# Define qubit Hamiltonian (free evolution + small coupling)\n",
    "H0 = sum(omega_0 * tensor([sigmaz() if i == j else qeye(2) for i in range(N)]) for j in range(N))\n",
    "H_coupling = g * tensor(sigmax(), sigmax())\n",
    "H = H0 + H_coupling\n",
    "\n",
    "# Initial state with specific energy\n",
    "psi0 = tensor(basis(2, 1), basis(2, 0))  # Example: excited state for qubit 1\n",
    "def pump(t, args):\n",
    "    return args['A_pump'] * np.exp(-((t - args['t0'])**2) / (2 * args['sigma']**2))\n",
    "\n",
    "# Time-dependent term for pump\n",
    "H_pump = [tensor(sigmaz(), sigmaz()), pump]\n",
    "# Time evolution\n",
    "t_list = np.linspace(0, 50, 1000)  # Time points\n",
    "args = {'A_pump': 1.0, 't0': 10, 'sigma': 5}\n",
    "result = mesolve([H, H_pump], psi0, t_list, [], [], args=args)\n",
    "# Define probe pulse and measurement\n",
    "def probe(t, args):\n",
    "    return args['A_probe'] * np.exp(-((t - args['t0_probe'])**2) / (2 * args['sigma_probe']**2))\n",
    "\n",
    "H_probe = [tensor(sigmaz(), sigmaz()), probe]\n",
    "\n",
    "# Simulate response with probe\n",
    "args_probe = {'A_probe': 0.5, 't0_probe': 30, 'sigma_probe': 5}\n",
    "e_op_list = [tensor([psi1 * psi1.dag() if i == j else psi0 * psi0.dag() for j in range(N)]) for i in range(N)]\n",
    "result_probe = mesolve([H, H_probe], result.states[-1], t_list, [], e_op_list, args=args_probe)\n",
    "from scipy.fftpack import fft, fftshift\n",
    "\n",
    "# Calculate observable (e.g., expectation value)\n",
    "\n",
    "# Fourier transform to get 2D spectrum\n",
    "spectrum = fftshift(fft(e_op_list))"
   ],
   "id": "5bfd09b50e46df24",
   "execution_count": 238,
   "outputs": []
  },
  {
   "metadata": {
    "ExecuteTime": {
     "end_time": "2024-12-05T14:07:49.993873Z",
     "start_time": "2024-12-05T14:07:49.984714Z"
    }
   },
   "cell_type": "code",
   "source": [
    "def pump(t, args):\n",
    "    return args['A_pump'] * np.exp(-((t - args['t0'])**2) / (2 * args['sigma']**2))\n",
    "\n",
    "args = {'A_pump': 1.0, 't0': 10, 'sigma': 5}\n",
    "\n",
    "pump(0, args)"
   ],
   "id": "7834cdceccab787",
   "execution_count": 209,
   "outputs": []
  }
 ],
 "metadata": {
  "kernelspec": {
   "display_name": "Python 3",
   "language": "python",
   "name": "python3"
  },
  "language_info": {
   "codemirror_mode": {
    "name": "ipython",
    "version": 2
   },
   "file_extension": ".py",
   "mimetype": "text/x-python",
   "name": "python",
   "nbconvert_exporter": "python",
   "pygments_lexer": "ipython2",
   "version": "2.7.6"
  }
 },
 "nbformat": 4,
 "nbformat_minor": 5
}

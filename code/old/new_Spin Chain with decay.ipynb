{
 "cells": [
  {
   "cell_type": "code",
   "id": "initial_id",
   "metadata": {
    "collapsed": true,
    "ExecuteTime": {
     "end_time": "2024-11-21T15:41:59.155713Z",
     "start_time": "2024-11-21T15:41:56.032384Z"
    }
   },
   "source": [
    "import matplotlib.pyplot as plt\n",
    "import numpy as np\n",
    "\n",
    "from qutip import * \n",
    "import os\n",
    "\n",
    "# Matplotlib Einstellungen gemäß den LaTeX-Caption-Formatierungen\n",
    "plt.rcParams.update({\n",
    "    'text.usetex': True,              # Enable LaTeX for text rendering\n",
    "    'font.family': 'serif',           # Use a serif font family\n",
    "    'font.serif': 'Palatino',         # Set Palatino as the serif font\n",
    "    'text.latex.preamble': r'\\usepackage{amsmath}',\n",
    "    'font.size': 20,                   # Font size for general text\n",
    "    'axes.titlesize': 20,              # Font size for axis titles\n",
    "    'axes.labelsize': 20,              # Font size for axis labels\n",
    "    'xtick.labelsize': 20,             # Font size for x-axis tick labels\n",
    "    'ytick.labelsize': 20,             # Font size for y-axis tick labels\n",
    "    'legend.fontsize': 20,             # Font size for legends\n",
    "    'figure.figsize': [8, 6],          # Size of the plot (width x height)\n",
    "    'figure.autolayout': True,         # Automatic layout adjustment\n",
    "    'savefig.format': 'svg',           # Default format for saving figures\n",
    "    'figure.facecolor': 'none',        # Make the figure face color transparent\n",
    "    'axes.facecolor': 'none',          # Make the axes face color transparent\n",
    "    'savefig.transparent': True        # Save figures with transparent background\n",
    "})\n",
    "\n",
    "output_dir = r\"C:\\Users\\leopo\\OneDrive - UT Cloud\\Uni\\Semester_9\\Master_thesis\\Figures_From_Python\"\n",
    "os.makedirs(output_dir, exist_ok=True)"
   ],
   "execution_count": 3,
   "outputs": []
  },
  {
   "metadata": {},
   "cell_type": "markdown",
   "source": [
    "$$\n",
    "\\displaystyle H = \\sum_{n=1}^N \\left[ \\frac{\\omega_0}{2} \\sigma_z^{(n)} + \\omega \\sigma_x^{(n)} \\right] \n",
    "- J_{ff} \\sum_{\\text{nearest neighbors}} \\sigma_+^{(n)} \\sigma_-^{(n+1)}.\n",
    "$$"
   ],
   "id": "fbde5d7951a8a53b"
  },
  {
   "metadata": {
    "ExecuteTime": {
     "end_time": "2024-11-20T13:57:19.188233Z",
     "start_time": "2024-11-20T13:57:19.181878Z"
    }
   },
   "cell_type": "code",
   "source": [
    "# Set the system parameters\n",
    "N       = 3      # number of atoms\n",
    "n_chains = 1     # number of chains\n",
    "omega_0 = 1.     # Energy splitting of every atom\n",
    "omega   = 1.     # driving\n",
    "J_flipflop = 0.  # Flip-flop interaction of (neighboring) spins\n",
    "nbar = 1         # average photon (excitation) number\n",
    "\n",
    "# collective decay and dephasing\n",
    "gamma_decay_collective = 0.1 * nbar\n",
    "gamma_dephase_collective = 0.1\n",
    "\n",
    "# initial state\n",
    "psiini = basis(N,0)"
   ],
   "id": "76bb23c3f08969f5",
   "execution_count": 2,
   "outputs": []
  },
  {
   "metadata": {
    "ExecuteTime": {
     "end_time": "2024-11-20T13:57:19.200034Z",
     "start_time": "2024-11-20T13:57:19.190248Z"
    }
   },
   "cell_type": "code",
   "source": [
    "# Setup N-Qubit operators\n",
    "sm_list, sp_list, sz_list = [], [], []\n",
    "for i in range(N):\n",
    "    op = np.zeros((N,N))\n",
    "    op[0, i] = 1\n",
    "    sp_list.append(Qobj(op))\n",
    "    sm_list.append(Qobj(op.T))\n",
    "    sz_list.append((sp_list[i] * sm_list[i] - sm_list[i] * sp_list[i]))"
   ],
   "id": "6595ef766741d55a",
   "execution_count": 3,
   "outputs": []
  },
  {
   "metadata": {
    "ExecuteTime": {
     "end_time": "2024-11-20T13:57:19.207759Z",
     "start_time": "2024-11-20T13:57:19.201043Z"
    }
   },
   "cell_type": "code",
   "source": [
    "# define the Hamiltonian\n",
    "def hamiltonian(omega, omega_0, N, n_chains):\n",
    "    H = 0\n",
    "\n",
    "    # Add energy splitting terms (diagonal in h)\n",
    "    for i in range(N):\n",
    "        H -= 0.5 * omega_0 * sz_list[i] + omega * (sp_list[i] - sm_list[i]) \n",
    "\n",
    "    for i in range(N):\n",
    "        for j in range(N):\n",
    "            H -= 1 * (sp_list[i] * sm_list[j])     # Add flip-flop interaction terms\n",
    "    return H\n",
    "\n",
    "H = hamiltonian(omega, omega_0, N, n_chains)"
   ],
   "id": "a7c8e781087fc128",
   "execution_count": 4,
   "outputs": []
  },
  {
   "metadata": {},
   "cell_type": "markdown",
   "source": [
    "$$\n",
    "C_{\\text{decay}} = \\sqrt{\\gamma} \\sum_{n=1}^N \\sigma_-^{(n)}\n",
    "$$\n",
    "$$\n",
    "C_{\\text{dephase}} = \\sqrt{\\gamma} \\sum_{n=1}^N \\sigma_z^{(n)}\n",
    "$$\n"
   ],
   "id": "534cd6db976fe009"
  },
  {
   "metadata": {
    "ExecuteTime": {
     "end_time": "2024-11-20T13:57:19.216281Z",
     "start_time": "2024-11-20T13:57:19.210781Z"
    }
   },
   "cell_type": "code",
   "source": [
    "# Define the collective collapse operators\n",
    "c_ops_decay   = [np.sqrt(gamma_decay_collective)   * sum(sm_list[i] for i in range(N))]\n",
    "c_ops_dephase = [np.sqrt(gamma_dephase_collective) * sum(sz_list[i] for i in range(N))]\n",
    "\n",
    "# Combine dephasing and decay\n",
    "c_ops = c_ops_decay + c_ops_dephase "
   ],
   "id": "53c7a1c8f435d7a5",
   "execution_count": 5,
   "outputs": []
  },
  {
   "metadata": {
    "ExecuteTime": {
     "end_time": "2024-11-20T13:57:20.728630Z",
     "start_time": "2024-11-20T13:57:19.218293Z"
    }
   },
   "cell_type": "code",
   "source": [
    "times = np.linspace(0, 30, 1000) # list of times\n",
    "# Projection operators for each spin onto the upper state |1>\n",
    "projector_upper = [basis(N, i) * basis(N, i).dag() for i in range(N)]\n",
    "excitation_operator = qeye(N)  # \\sum_i sigma_-^i * sigma_+^i\n",
    "\n",
    "# evolution\n",
    "result = mesolve(H, psiini, times, c_ops, projector_upper + [excitation_operator], options={\"store_states\": True})\n",
    "# Plot the population of the upper state for each spin\n",
    "for i in range(N):\n",
    "    plt.plot(times, result.expect[i], label=fr\"${i}$\", linestyle='-')  # Solid line\n",
    "plt.plot(times, result.expect[N],label=r\"$\\langle n \\rangle$\", linestyle='--')\n",
    "\n",
    "plt.legend(title=\"$i$\")\n",
    "plt.xlabel(\"Time\")\n",
    "plt.ylabel(r\"Population P($|1\\rangle_i$)\")\n",
    "plt.title(\"Dynamics of spin chain with qubit dephasing and decay\")\n",
    "plt.show()"
   ],
   "id": "429e4cca1485cc70",
   "execution_count": 6,
   "outputs": []
  },
  {
   "metadata": {},
   "cell_type": "markdown",
   "source": "$$$\\( \\hat{N} = \\sum_{i=1}^{N} \\frac{1}{2} (\\hat{\\sigma}_z^{(i)} + 1) \\)$$",
   "id": "8e679456bc950661"
  },
  {
   "metadata": {
    "ExecuteTime": {
     "end_time": "2024-11-20T13:57:20.735381Z",
     "start_time": "2024-11-20T13:57:20.730052Z"
    }
   },
   "cell_type": "code",
   "source": "N_op = 0.5 * (qeye(N) * N +  sum(sm_list[i] for i in range(N)))",
   "id": "5dc95a30764a6e46",
   "execution_count": 7,
   "outputs": []
  },
  {
   "metadata": {
    "ExecuteTime": {
     "end_time": "2024-11-20T13:57:20.744622Z",
     "start_time": "2024-11-20T13:57:20.737485Z"
    }
   },
   "cell_type": "code",
   "source": "N_op",
   "id": "82f33bc4219e5e34",
   "execution_count": 8,
   "outputs": []
  },
  {
   "metadata": {
    "ExecuteTime": {
     "end_time": "2024-11-20T14:02:46.437052Z",
     "start_time": "2024-11-20T14:02:46.380243Z"
    }
   },
   "cell_type": "code",
   "source": [
    "# Single Excitation Subspace using QuTiP\n",
    "\n",
    "## Introduction\n",
    "\"\"\"\n",
    "The single excitation subspace is a reduced Hilbert space for systems where the total number of excitations\n",
    "is restricted to one. This is common in quantum optics and many-body systems where excitations are conserved.\n",
    "\n",
    "In this notebook, we will:\n",
    "1. Create a multi-qubit system using QuTiP.\n",
    "2. Project the full Hilbert space to the single excitation subspace.\n",
    "3. Analyze operators and dynamics in this subspace.\n",
    "\"\"\"\n",
    "\n",
    "# Import necessary libraries\n",
    "from qutip import *\n",
    "import numpy as np\n",
    "import matplotlib.pyplot as plt\n",
    "\n",
    "## Define the System\n",
    "\"\"\"\n",
    "Consider a two-qubit system, where each qubit can either be in the ground state |g⟩ or excited state |e⟩.\n",
    "The full Hilbert space for this system has dimensions 2^2 = 4:\n",
    "    {|gg⟩, |ge⟩, |eg⟩, |ee⟩}.\n",
    "The single excitation subspace is spanned by {|ge⟩, |eg⟩}.\n",
    "\"\"\"\n",
    "\n",
    "# Number of qubits\n",
    "N = 2\n",
    "\n",
    "# Basis states for the full Hilbert space\n",
    "basis_states = [basis(2, 0), basis(2, 1)]  # |0⟩ and |1⟩\n",
    "\n",
    "\n",
    "# Create all possible combinations of basis states for N qubits\n",
    "full_basis = [tensor(*states) for states in product(basis_states, repeat=N)]\n",
    "\n",
    "print(\"Full Hilbert space basis states:\")\n",
    "for i, state in enumerate(full_basis):\n",
    "    print(f\"State {i}: {state}\")\n",
    "print(\"Full Hilbert space basis states:\")\n",
    "for i, state in enumerate(full_basis):\n",
    "    print(f\"State {i}: {state}\")\n",
    "\n",
    "## Projecting to the Single Excitation Subspace\n",
    "\"\"\"\n",
    "The single excitation subspace contains states where exactly one qubit is excited.\n",
    "For a two-qubit system, this is spanned by:\n",
    "    {|ge⟩, |eg⟩}.\n",
    "\"\"\"\n",
    "\n",
    "# Single excitation basis\n",
    "single_excitation_basis = [tensor(basis(2, 0), basis(2, 1)), tensor(basis(2, 1), basis(2, 0))]\n",
    "\n",
    "print(\"\\nSingle excitation subspace basis states:\")\n",
    "for state in single_excitation_basis:\n",
    "    print(state)\n",
    "\n",
    "## Operators in the Single Excitation Subspace\n",
    "\"\"\"\n",
    "Operators in the full Hilbert space must be projected to the single excitation subspace.\n",
    "\n",
    "For example, the Pauli-Z operator for each qubit in the single excitation subspace can be represented as:\n",
    "\"\"\"\n",
    "\n",
    "# Pauli-Z operator on the first qubit\n",
    "sigma_z_full = tensor(sigmaz(), qeye(2))\n",
    "sigma_z_proj = qeye(2).proj(single_excitation_basis) * sigma_z_full\n",
    "\n",
    "print(\"\\nPauli-Z operator in the single excitation subspace:\")\n",
    "print(sigma_z_proj)\n",
    "\n",
    "## Dynamics in the Single Excitation Subspace\n",
    "\"\"\"\n",
    "Let us define a simple Hamiltonian in the single excitation subspace to illustrate dynamics.\n",
    "We consider a symmetric coupling between the qubits.\n",
    "\"\"\"\n",
    "\n",
    "# Hamiltonian in the single excitation subspace\n",
    "J = 1.0  # Coupling strength\n",
    "H = J * (tensor(basis(2, 0), basis(2, 1)).dag() * tensor(basis(2, 1), basis(2, 0)) +\n",
    "         tensor(basis(2, 1), basis(2, 0)).dag() * tensor(basis(2, 0), basis(2, 1)))\n",
    "\n",
    "print(\"\\nHamiltonian in the single excitation subspace:\")\n",
    "print(H)\n",
    "\n",
    "# Initial state: qubit 1 excited\n",
    "psi0 = tensor(basis(2, 1), basis(2, 0))\n",
    "\n",
    "# Time evolution\n",
    "times = np.linspace(0, 10, 100)\n",
    "result = mesolve(H, psi0, times, [], [])\n",
    "\n",
    "## Plotting the Dynamics\n",
    "plt.figure()\n",
    "plt.plot(times, [expect(op, state) for state in result.states])\n",
    "plt.xlabel('Time')\n",
    "plt.ylabel('Probability')\n",
    "plt.title('Dynamics in Single Excitation Subspace')\n",
    "plt.show()"
   ],
   "id": "4ef83100dc1f4dbe",
   "execution_count": 5,
   "outputs": []
  },
  {
   "metadata": {
    "ExecuteTime": {
     "end_time": "2024-11-20T15:14:40.366622Z",
     "start_time": "2024-11-20T15:13:57.285233Z"
    }
   },
   "cell_type": "code",
   "source": [
    "# base 2 lvl atom\n",
    "psi0 = basis(2, 0)  # Vector |0>\n",
    "psi1 = basis(2, 1)  # Vector |1>\n",
    "# Set the system parameters\n",
    "N = 50  # number of atoms\n",
    "n_chains = 1  # number of chains\n",
    "omega_0 = 1.  # Energy splitting of every atom\n",
    "omega = 1.  # driving\n",
    "J_flipflop = 1.  # Flip-flop interaction of (neighboring) spins\n",
    "nbar = 1  # average photon (excitation) number\n",
    "\n",
    "# collective decay and dephasing\n",
    "gamma_decay_collective = 0.1 * nbar\n",
    "gamma_dephase_collective = 0.1\n",
    "\n",
    "# initial state\n",
    "state_list = [psi1] + [psi0] * (N - 1)\n",
    "psiini = tensor(state_list)  # Vector |100...>\n",
    "# Setup N-Qubit operators\n",
    "sx_list, sy_list, sz_list, sm_list, sp_list = [], [], [], [], []\n",
    "for i in range(N):\n",
    "    op_list = [qeye(2)] * N\n",
    "    op_list[i] = sigmax()\n",
    "    sx_list.append(tensor(op_list))\n",
    "    op_list[i] = sigmay()\n",
    "    sy_list.append(tensor(op_list))\n",
    "    op_list[i] = sigmaz()\n",
    "    sz_list.append(tensor(op_list))\n",
    "    op_list[i] = sigmam()\n",
    "    sm_list.append(tensor(op_list))\n",
    "    op_list[i] = sigmap()\n",
    "    sp_list.append(tensor(op_list))"
   ],
   "id": "976c6b9c6d5725f2",
   "execution_count": 49,
   "outputs": []
  }
 ],
 "metadata": {
  "kernelspec": {
   "display_name": "Python 3",
   "language": "python",
   "name": "python3"
  },
  "language_info": {
   "codemirror_mode": {
    "name": "ipython",
    "version": 2
   },
   "file_extension": ".py",
   "mimetype": "text/x-python",
   "name": "python",
   "nbconvert_exporter": "python",
   "pygments_lexer": "ipython2",
   "version": "2.7.6"
  }
 },
 "nbformat": 4,
 "nbformat_minor": 5
}
